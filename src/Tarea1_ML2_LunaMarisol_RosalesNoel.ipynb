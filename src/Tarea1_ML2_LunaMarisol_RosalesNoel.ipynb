{
  "nbformat": 4,
  "nbformat_minor": 0,
  "metadata": {
    "colab": {
      "provenance": []
    },
    "kernelspec": {
      "name": "python3",
      "display_name": "Python 3"
    },
    "language_info": {
      "name": "python"
    }
  },
  "cells": [
    {
      "cell_type": "markdown",
      "source": [
        "# Assignment 1: Bag of Words, Naive Bayes, Support Vector Machines, Decision/Regression Trees"
      ],
      "metadata": {
        "id": "cJzCyg1hgZcU"
      }
    },
    {
      "cell_type": "markdown",
      "source": [
        "INTEGRANTES:\n",
        "1.   Luna Carrera Marisol\n",
        "2.   Rosales Chuco Noel  "
      ],
      "metadata": {
        "id": "uwWCBGbPf3Cd"
      }
    },
    {
      "cell_type": "markdown",
      "source": [
        "## Part A: Binary Classification on Text Data"
      ],
      "metadata": {
        "id": "jl7viLBYUsHs"
      }
    },
    {
      "cell_type": "markdown",
      "source": [
        "1. CARGA Y DIVISIÓN DE DATOS"
      ],
      "metadata": {
        "id": "gxuc4Ea9U6S3"
      }
    },
    {
      "cell_type": "markdown",
      "source": [
        "En este primer bloque se realiza la lectura del archivo \"disater_tweets.csv\", se examamina la estructura general del conjunto de datos y se calcula el porcentaje de tuits que corresponden a desastres reales y no reales."
      ],
      "metadata": {
        "id": "CgCbChRVU_X9"
      }
    },
    {
      "cell_type": "code",
      "source": [
        "import pandas as pd"
      ],
      "metadata": {
        "id": "vEbZV0yuUrz_"
      },
      "execution_count": 44,
      "outputs": []
    },
    {
      "cell_type": "code",
      "source": [
        "from google.colab import files\n",
        "uploaded = files.upload()"
      ],
      "metadata": {
        "colab": {
          "base_uri": "https://localhost:8080/",
          "height": 73
        },
        "id": "JcYJvQ43UrxQ",
        "outputId": "d66c967b-8213-4861-86e1-254772457d28",
        "collapsed": true
      },
      "execution_count": 34,
      "outputs": [
        {
          "output_type": "display_data",
          "data": {
            "text/plain": [
              "<IPython.core.display.HTML object>"
            ],
            "text/html": [
              "\n",
              "     <input type=\"file\" id=\"files-14222f39-b72d-4a3d-b8c1-16631d695200\" name=\"files[]\" multiple disabled\n",
              "        style=\"border:none\" />\n",
              "     <output id=\"result-14222f39-b72d-4a3d-b8c1-16631d695200\">\n",
              "      Upload widget is only available when the cell has been executed in the\n",
              "      current browser session. Please rerun this cell to enable.\n",
              "      </output>\n",
              "      <script>// Copyright 2017 Google LLC\n",
              "//\n",
              "// Licensed under the Apache License, Version 2.0 (the \"License\");\n",
              "// you may not use this file except in compliance with the License.\n",
              "// You may obtain a copy of the License at\n",
              "//\n",
              "//      http://www.apache.org/licenses/LICENSE-2.0\n",
              "//\n",
              "// Unless required by applicable law or agreed to in writing, software\n",
              "// distributed under the License is distributed on an \"AS IS\" BASIS,\n",
              "// WITHOUT WARRANTIES OR CONDITIONS OF ANY KIND, either express or implied.\n",
              "// See the License for the specific language governing permissions and\n",
              "// limitations under the License.\n",
              "\n",
              "/**\n",
              " * @fileoverview Helpers for google.colab Python module.\n",
              " */\n",
              "(function(scope) {\n",
              "function span(text, styleAttributes = {}) {\n",
              "  const element = document.createElement('span');\n",
              "  element.textContent = text;\n",
              "  for (const key of Object.keys(styleAttributes)) {\n",
              "    element.style[key] = styleAttributes[key];\n",
              "  }\n",
              "  return element;\n",
              "}\n",
              "\n",
              "// Max number of bytes which will be uploaded at a time.\n",
              "const MAX_PAYLOAD_SIZE = 100 * 1024;\n",
              "\n",
              "function _uploadFiles(inputId, outputId) {\n",
              "  const steps = uploadFilesStep(inputId, outputId);\n",
              "  const outputElement = document.getElementById(outputId);\n",
              "  // Cache steps on the outputElement to make it available for the next call\n",
              "  // to uploadFilesContinue from Python.\n",
              "  outputElement.steps = steps;\n",
              "\n",
              "  return _uploadFilesContinue(outputId);\n",
              "}\n",
              "\n",
              "// This is roughly an async generator (not supported in the browser yet),\n",
              "// where there are multiple asynchronous steps and the Python side is going\n",
              "// to poll for completion of each step.\n",
              "// This uses a Promise to block the python side on completion of each step,\n",
              "// then passes the result of the previous step as the input to the next step.\n",
              "function _uploadFilesContinue(outputId) {\n",
              "  const outputElement = document.getElementById(outputId);\n",
              "  const steps = outputElement.steps;\n",
              "\n",
              "  const next = steps.next(outputElement.lastPromiseValue);\n",
              "  return Promise.resolve(next.value.promise).then((value) => {\n",
              "    // Cache the last promise value to make it available to the next\n",
              "    // step of the generator.\n",
              "    outputElement.lastPromiseValue = value;\n",
              "    return next.value.response;\n",
              "  });\n",
              "}\n",
              "\n",
              "/**\n",
              " * Generator function which is called between each async step of the upload\n",
              " * process.\n",
              " * @param {string} inputId Element ID of the input file picker element.\n",
              " * @param {string} outputId Element ID of the output display.\n",
              " * @return {!Iterable<!Object>} Iterable of next steps.\n",
              " */\n",
              "function* uploadFilesStep(inputId, outputId) {\n",
              "  const inputElement = document.getElementById(inputId);\n",
              "  inputElement.disabled = false;\n",
              "\n",
              "  const outputElement = document.getElementById(outputId);\n",
              "  outputElement.innerHTML = '';\n",
              "\n",
              "  const pickedPromise = new Promise((resolve) => {\n",
              "    inputElement.addEventListener('change', (e) => {\n",
              "      resolve(e.target.files);\n",
              "    });\n",
              "  });\n",
              "\n",
              "  const cancel = document.createElement('button');\n",
              "  inputElement.parentElement.appendChild(cancel);\n",
              "  cancel.textContent = 'Cancel upload';\n",
              "  const cancelPromise = new Promise((resolve) => {\n",
              "    cancel.onclick = () => {\n",
              "      resolve(null);\n",
              "    };\n",
              "  });\n",
              "\n",
              "  // Wait for the user to pick the files.\n",
              "  const files = yield {\n",
              "    promise: Promise.race([pickedPromise, cancelPromise]),\n",
              "    response: {\n",
              "      action: 'starting',\n",
              "    }\n",
              "  };\n",
              "\n",
              "  cancel.remove();\n",
              "\n",
              "  // Disable the input element since further picks are not allowed.\n",
              "  inputElement.disabled = true;\n",
              "\n",
              "  if (!files) {\n",
              "    return {\n",
              "      response: {\n",
              "        action: 'complete',\n",
              "      }\n",
              "    };\n",
              "  }\n",
              "\n",
              "  for (const file of files) {\n",
              "    const li = document.createElement('li');\n",
              "    li.append(span(file.name, {fontWeight: 'bold'}));\n",
              "    li.append(span(\n",
              "        `(${file.type || 'n/a'}) - ${file.size} bytes, ` +\n",
              "        `last modified: ${\n",
              "            file.lastModifiedDate ? file.lastModifiedDate.toLocaleDateString() :\n",
              "                                    'n/a'} - `));\n",
              "    const percent = span('0% done');\n",
              "    li.appendChild(percent);\n",
              "\n",
              "    outputElement.appendChild(li);\n",
              "\n",
              "    const fileDataPromise = new Promise((resolve) => {\n",
              "      const reader = new FileReader();\n",
              "      reader.onload = (e) => {\n",
              "        resolve(e.target.result);\n",
              "      };\n",
              "      reader.readAsArrayBuffer(file);\n",
              "    });\n",
              "    // Wait for the data to be ready.\n",
              "    let fileData = yield {\n",
              "      promise: fileDataPromise,\n",
              "      response: {\n",
              "        action: 'continue',\n",
              "      }\n",
              "    };\n",
              "\n",
              "    // Use a chunked sending to avoid message size limits. See b/62115660.\n",
              "    let position = 0;\n",
              "    do {\n",
              "      const length = Math.min(fileData.byteLength - position, MAX_PAYLOAD_SIZE);\n",
              "      const chunk = new Uint8Array(fileData, position, length);\n",
              "      position += length;\n",
              "\n",
              "      const base64 = btoa(String.fromCharCode.apply(null, chunk));\n",
              "      yield {\n",
              "        response: {\n",
              "          action: 'append',\n",
              "          file: file.name,\n",
              "          data: base64,\n",
              "        },\n",
              "      };\n",
              "\n",
              "      let percentDone = fileData.byteLength === 0 ?\n",
              "          100 :\n",
              "          Math.round((position / fileData.byteLength) * 100);\n",
              "      percent.textContent = `${percentDone}% done`;\n",
              "\n",
              "    } while (position < fileData.byteLength);\n",
              "  }\n",
              "\n",
              "  // All done.\n",
              "  yield {\n",
              "    response: {\n",
              "      action: 'complete',\n",
              "    }\n",
              "  };\n",
              "}\n",
              "\n",
              "scope.google = scope.google || {};\n",
              "scope.google.colab = scope.google.colab || {};\n",
              "scope.google.colab._files = {\n",
              "  _uploadFiles,\n",
              "  _uploadFilesContinue,\n",
              "};\n",
              "})(self);\n",
              "</script> "
            ]
          },
          "metadata": {}
        },
        {
          "output_type": "stream",
          "name": "stdout",
          "text": [
            "Saving disaster_tweets.csv to disaster_tweets.csv\n"
          ]
        }
      ]
    },
    {
      "cell_type": "code",
      "source": [
        "#Carga del dataset desde la carpeta data\n",
        "data = pd.read_csv(\"disaster_tweets.csv\")\n",
        "\n",
        "#Vizualización inicial de las primeras observaciones\n",
        "data.head()\n",
        "\n",
        "#Tamaño y columnas desponibles\n",
        "print(\"Dimensiones del datatest\", data.shape)\n",
        "print(\"Columnas disponibles\", data.columns.tolist())\n",
        "\n",
        "#Cálculo del procentaje de tuits sobre desastres reales y no reales\n",
        "porcentaje_desastre = data['target'].mean()*100\n",
        "porcentaje_no_desastre = 100 - porcentaje_desastre\n",
        "\n",
        "\n",
        "print(f\"Porcentaje de tuits sobre desastres reales: {porcentaje_desastre:.2f}%\")\n",
        "print(f\"Porcentaje de tuits sobre no desastres: {porcentaje_no_desastre:.2f}%\")"
      ],
      "metadata": {
        "id": "xGeQoNw1Urud",
        "colab": {
          "base_uri": "https://localhost:8080/"
        },
        "outputId": "12e94f22-5d4c-439c-fde5-1a11c4cc4f7d"
      },
      "execution_count": 47,
      "outputs": [
        {
          "output_type": "stream",
          "name": "stdout",
          "text": [
            "Dimensiones del datatest (7613, 5)\n",
            "Columnas disponibles ['id', 'keyword', 'location', 'text', 'target']\n",
            "Porcentaje de tuits sobre desastres reales: 42.97%\n",
            "Porcentaje de tuits sobre no desastres: 57.03%\n"
          ]
        }
      ]
    },
    {
      "cell_type": "markdown",
      "source": [
        "DIVISIÓN DE LOS DATOS EN ENTRENAMIENTO Y PRUEBA\n",
        "A continuación, se divide el conjunto de datos en dos subconjuntos:\n",
        "\n",
        "\n",
        "1.   70% de los datos para entrenamiento del modelo\n",
        "2.   30% de los datos para prueba y evolución del desempeño\n",
        "\n",
        "Se emplea la opción 'stratify' para mantener la misma proporción de clases en ambos."
      ],
      "metadata": {
        "id": "fyxWojxNVHSK"
      }
    },
    {
      "cell_type": "code",
      "source": [
        "from sklearn.model_selection import train_test_split\n",
        "\n",
        "train_df, test_df = train_test_split(\n",
        "    data,\n",
        "    test_size=0.3,\n",
        "    random_state=42,\n",
        "    stratify=data['target']\n",
        ")\n",
        "\n",
        "#Variables objetivo\n",
        "y_train = train_df['target']\n",
        "y_test = test_df['target']\n",
        "\n",
        "#Confirmación de tamaños\n",
        "print(\"Tamaño del conjunto de entrenamiento\", train_df.shape)\n",
        "print(\"Tamaño del conjunto de prueba:\", test_df.shape)"
      ],
      "metadata": {
        "id": "bHUzcIAwUrrj",
        "colab": {
          "base_uri": "https://localhost:8080/"
        },
        "outputId": "cb71549f-e6fc-4679-e2a3-1cdde1683358"
      },
      "execution_count": 48,
      "outputs": [
        {
          "output_type": "stream",
          "name": "stdout",
          "text": [
            "Tamaño del conjunto de entrenamiento (5329, 5)\n",
            "Tamaño del conjunto de prueba: (2284, 5)\n"
          ]
        }
      ]
    },
    {
      "cell_type": "markdown",
      "source": [
        "2. PREPROCESAMIENTO DE DATOS:"
      ],
      "metadata": {
        "id": "D3gKyMktVRIB"
      }
    },
    {
      "cell_type": "markdown",
      "source": [
        "En esta sección se limpiarán los textos de los tuits con el fin de eliminar ruido y normalizar la información lingÜística. El procesamiento adecuado es fundamental para que los alogaritmos de clasificación puedad identificar patrones relevantes en el lenguaje.\n"
      ],
      "metadata": {
        "id": "5tB5iUkeVTik"
      }
    },
    {
      "cell_type": "code",
      "source": [
        "#Se utilizarán herramientas del paquete nltk para eliminar palabras vacías\n",
        "#(stopwords) y lematizar las palabras, reduciéndolas a su forma canónica.\n",
        "\n",
        "import re\n",
        "import nltk\n",
        "from nltk.corpus import stopwords\n",
        "from nltk.stem import WordNetLemmatizer\n",
        "\n",
        "#Descarga de los recursos necesarios de nltk\n",
        "nltk.download('stopwords')\n",
        "nltk.download('wordnet')\n",
        "\n",
        "#Definición del conjunto de palabras vacías en inglés\n",
        "stop_words = set(stopwords.words('english'))\n",
        "\n",
        "#Inicialización del lematizador\n",
        "lemmatizer = WordNetLemmatizer()"
      ],
      "metadata": {
        "id": "55gU3kN3Uroh",
        "colab": {
          "base_uri": "https://localhost:8080/"
        },
        "outputId": "d921cb97-895b-447e-b036-792c9cf42acf"
      },
      "execution_count": 49,
      "outputs": [
        {
          "output_type": "stream",
          "name": "stderr",
          "text": [
            "[nltk_data] Downloading package stopwords to /root/nltk_data...\n",
            "[nltk_data]   Package stopwords is already up-to-date!\n",
            "[nltk_data] Downloading package wordnet to /root/nltk_data...\n",
            "[nltk_data]   Package wordnet is already up-to-date!\n"
          ]
        }
      ]
    },
    {
      "cell_type": "markdown",
      "source": [
        "DEFINICIÓN DE LA FUNCIÓN DE LA LIMPIEZA DE TEXTO A continuación, se define una función que aplique de manera secuencial de los pasos de normalización sobre el texto de cada tuit"
      ],
      "metadata": {
        "id": "M5EcfcJ6VbbX"
      }
    },
    {
      "cell_type": "code",
      "source": [
        "def limpiar_texto(texto):\n",
        "  \"\"\"\n",
        "  Aplica las etapas de procesamiento a un tuit individual:\n",
        "  1. Conversión a minúsculas.\n",
        "  2. Eliminación de URLs.\n",
        "  3. Eliminación de menciones (@usuario).\n",
        "  4. Eliminación de puntuación, números y símbolos.\n",
        "  5. Eliminación de palabras vacías (stopwords).\n",
        "  6. Lematización de cada palabra.\n",
        "  \"\"\"\n",
        "\n",
        "  #Paso 1: Conversión a minusculas\n",
        "  texto = texto.lower()\n",
        "\n",
        "  #Paso 2: Eliminación de URLs\n",
        "  texto = re.sub (r\"http\\S+|www\\S+\", \"\", texto)\n",
        "\n",
        "  #Paso 3: Eliminación de menciones a usuarios\n",
        "  texto = re.sub(r\"@\\w+\", \"\", texto)\n",
        "\n",
        "  #Paso 4: Eliminación de puntuación, números y caracteres no alfabéticos\n",
        "  texto = re.sub(r\"[^a-z\\s]\", \"\", texto)\n",
        "\n",
        "  #Paso 5: tokenización (separación por espacios)\n",
        "  tokens = texto.split()\n",
        "\n",
        "  #Paso 6: eliminación de palabras vacías y lematización\n",
        "  tokens = [lemmatizer.lemmatize(palabra) for palabra in tokens if palabra not in stop_words]\n",
        "\n",
        "  #Unión de los tokens nuevamente en una cadena limpia\n",
        "  return \" \".join(tokens)\n"
      ],
      "metadata": {
        "id": "Y4cL82DLUri7"
      },
      "execution_count": 50,
      "outputs": []
    },
    {
      "cell_type": "markdown",
      "source": [
        "APLICACIÓN DEL PREPOCESAMIENTO AL CONJUNTO DE DATOS"
      ],
      "metadata": {
        "id": "FBbNbRquVgWQ"
      }
    },
    {
      "cell_type": "code",
      "source": [
        "# La función de limpieza se aplicará tanto al conjunto de entrenamiento\n",
        "# como al de prueba, para garantizar coherencia entre ambos conjuntos.\n",
        "\n",
        "train_df['clean_text'] = train_df['text'].apply(limpiar_texto)\n",
        "test_df['clean_text'] = test_df['text'].apply(limpiar_texto)\n",
        "\n",
        "# Visualización de algunos ejemplos antes y después del preprocesamiento\n",
        "display(train_df[['text', 'clean_text']].head(10))"
      ],
      "metadata": {
        "id": "-q3VcLMoUrf5",
        "colab": {
          "base_uri": "https://localhost:8080/",
          "height": 467
        },
        "outputId": "d885de73-a290-4253-b7b6-a103b4e7f9b6"
      },
      "execution_count": 51,
      "outputs": [
        {
          "output_type": "display_data",
          "data": {
            "text/plain": [
              "                                                   text  \\\n",
              "3651  Las Vegas in top 5 cities for red-light runnin...   \n",
              "6118  Do you feel like you are sinking in unhappines...   \n",
              "7147  The Architect Behind Kanye WestÛªs Volcano ht...   \n",
              "4669  @ZachLowe_NBA there are a few reasons for that...   \n",
              "5204  I can't wait to be beyond obliterated this wee...   \n",
              "3953               Flooding ???? http://t.co/WVeO9ED10e   \n",
              "1952  #Camera #Art #Photography http://t.co/TJGxDc3D...   \n",
              "7475  Watertown Gazette owner charged in wreck http:...   \n",
              "4229  @HearItFromPa Also pls help us w/ our campaign...   \n",
              "2372  Such activities of Govt can't derail us from o...   \n",
              "\n",
              "                                             clean_text  \n",
              "3651         la vega top city redlight running fatality  \n",
              "6118            feel like sinking unhappiness take quiz  \n",
              "7147                architect behind kanye west volcano  \n",
              "4669  reason one constant drake inundation extremely...  \n",
              "5204               cant wait beyond obliterated weekend  \n",
              "3953                                           flooding  \n",
              "1952  camera art photography new boltcyclone dr ppdr...  \n",
              "7475              watertown gazette owner charged wreck  \n",
              "4229  also pls help u w campaign warn public hazardo...  \n",
              "2372  activity govt cant derail u aim amp still rema...  "
            ],
            "text/html": [
              "\n",
              "  <div id=\"df-090bb21b-9c98-4ed3-a027-4e2761c6fb40\" class=\"colab-df-container\">\n",
              "    <div>\n",
              "<style scoped>\n",
              "    .dataframe tbody tr th:only-of-type {\n",
              "        vertical-align: middle;\n",
              "    }\n",
              "\n",
              "    .dataframe tbody tr th {\n",
              "        vertical-align: top;\n",
              "    }\n",
              "\n",
              "    .dataframe thead th {\n",
              "        text-align: right;\n",
              "    }\n",
              "</style>\n",
              "<table border=\"1\" class=\"dataframe\">\n",
              "  <thead>\n",
              "    <tr style=\"text-align: right;\">\n",
              "      <th></th>\n",
              "      <th>text</th>\n",
              "      <th>clean_text</th>\n",
              "    </tr>\n",
              "  </thead>\n",
              "  <tbody>\n",
              "    <tr>\n",
              "      <th>3651</th>\n",
              "      <td>Las Vegas in top 5 cities for red-light runnin...</td>\n",
              "      <td>la vega top city redlight running fatality</td>\n",
              "    </tr>\n",
              "    <tr>\n",
              "      <th>6118</th>\n",
              "      <td>Do you feel like you are sinking in unhappines...</td>\n",
              "      <td>feel like sinking unhappiness take quiz</td>\n",
              "    </tr>\n",
              "    <tr>\n",
              "      <th>7147</th>\n",
              "      <td>The Architect Behind Kanye WestÛªs Volcano ht...</td>\n",
              "      <td>architect behind kanye west volcano</td>\n",
              "    </tr>\n",
              "    <tr>\n",
              "      <th>4669</th>\n",
              "      <td>@ZachLowe_NBA there are a few reasons for that...</td>\n",
              "      <td>reason one constant drake inundation extremely...</td>\n",
              "    </tr>\n",
              "    <tr>\n",
              "      <th>5204</th>\n",
              "      <td>I can't wait to be beyond obliterated this wee...</td>\n",
              "      <td>cant wait beyond obliterated weekend</td>\n",
              "    </tr>\n",
              "    <tr>\n",
              "      <th>3953</th>\n",
              "      <td>Flooding ???? http://t.co/WVeO9ED10e</td>\n",
              "      <td>flooding</td>\n",
              "    </tr>\n",
              "    <tr>\n",
              "      <th>1952</th>\n",
              "      <td>#Camera #Art #Photography http://t.co/TJGxDc3D...</td>\n",
              "      <td>camera art photography new boltcyclone dr ppdr...</td>\n",
              "    </tr>\n",
              "    <tr>\n",
              "      <th>7475</th>\n",
              "      <td>Watertown Gazette owner charged in wreck http:...</td>\n",
              "      <td>watertown gazette owner charged wreck</td>\n",
              "    </tr>\n",
              "    <tr>\n",
              "      <th>4229</th>\n",
              "      <td>@HearItFromPa Also pls help us w/ our campaign...</td>\n",
              "      <td>also pls help u w campaign warn public hazardo...</td>\n",
              "    </tr>\n",
              "    <tr>\n",
              "      <th>2372</th>\n",
              "      <td>Such activities of Govt can't derail us from o...</td>\n",
              "      <td>activity govt cant derail u aim amp still rema...</td>\n",
              "    </tr>\n",
              "  </tbody>\n",
              "</table>\n",
              "</div>\n",
              "    <div class=\"colab-df-buttons\">\n",
              "\n",
              "  <div class=\"colab-df-container\">\n",
              "    <button class=\"colab-df-convert\" onclick=\"convertToInteractive('df-090bb21b-9c98-4ed3-a027-4e2761c6fb40')\"\n",
              "            title=\"Convert this dataframe to an interactive table.\"\n",
              "            style=\"display:none;\">\n",
              "\n",
              "  <svg xmlns=\"http://www.w3.org/2000/svg\" height=\"24px\" viewBox=\"0 -960 960 960\">\n",
              "    <path d=\"M120-120v-720h720v720H120Zm60-500h600v-160H180v160Zm220 220h160v-160H400v160Zm0 220h160v-160H400v160ZM180-400h160v-160H180v160Zm440 0h160v-160H620v160ZM180-180h160v-160H180v160Zm440 0h160v-160H620v160Z\"/>\n",
              "  </svg>\n",
              "    </button>\n",
              "\n",
              "  <style>\n",
              "    .colab-df-container {\n",
              "      display:flex;\n",
              "      gap: 12px;\n",
              "    }\n",
              "\n",
              "    .colab-df-convert {\n",
              "      background-color: #E8F0FE;\n",
              "      border: none;\n",
              "      border-radius: 50%;\n",
              "      cursor: pointer;\n",
              "      display: none;\n",
              "      fill: #1967D2;\n",
              "      height: 32px;\n",
              "      padding: 0 0 0 0;\n",
              "      width: 32px;\n",
              "    }\n",
              "\n",
              "    .colab-df-convert:hover {\n",
              "      background-color: #E2EBFA;\n",
              "      box-shadow: 0px 1px 2px rgba(60, 64, 67, 0.3), 0px 1px 3px 1px rgba(60, 64, 67, 0.15);\n",
              "      fill: #174EA6;\n",
              "    }\n",
              "\n",
              "    .colab-df-buttons div {\n",
              "      margin-bottom: 4px;\n",
              "    }\n",
              "\n",
              "    [theme=dark] .colab-df-convert {\n",
              "      background-color: #3B4455;\n",
              "      fill: #D2E3FC;\n",
              "    }\n",
              "\n",
              "    [theme=dark] .colab-df-convert:hover {\n",
              "      background-color: #434B5C;\n",
              "      box-shadow: 0px 1px 3px 1px rgba(0, 0, 0, 0.15);\n",
              "      filter: drop-shadow(0px 1px 2px rgba(0, 0, 0, 0.3));\n",
              "      fill: #FFFFFF;\n",
              "    }\n",
              "  </style>\n",
              "\n",
              "    <script>\n",
              "      const buttonEl =\n",
              "        document.querySelector('#df-090bb21b-9c98-4ed3-a027-4e2761c6fb40 button.colab-df-convert');\n",
              "      buttonEl.style.display =\n",
              "        google.colab.kernel.accessAllowed ? 'block' : 'none';\n",
              "\n",
              "      async function convertToInteractive(key) {\n",
              "        const element = document.querySelector('#df-090bb21b-9c98-4ed3-a027-4e2761c6fb40');\n",
              "        const dataTable =\n",
              "          await google.colab.kernel.invokeFunction('convertToInteractive',\n",
              "                                                    [key], {});\n",
              "        if (!dataTable) return;\n",
              "\n",
              "        const docLinkHtml = 'Like what you see? Visit the ' +\n",
              "          '<a target=\"_blank\" href=https://colab.research.google.com/notebooks/data_table.ipynb>data table notebook</a>'\n",
              "          + ' to learn more about interactive tables.';\n",
              "        element.innerHTML = '';\n",
              "        dataTable['output_type'] = 'display_data';\n",
              "        await google.colab.output.renderOutput(dataTable, element);\n",
              "        const docLink = document.createElement('div');\n",
              "        docLink.innerHTML = docLinkHtml;\n",
              "        element.appendChild(docLink);\n",
              "      }\n",
              "    </script>\n",
              "  </div>\n",
              "\n",
              "\n",
              "    <div id=\"df-966a952e-b0c6-4573-afb8-35e688f1264e\">\n",
              "      <button class=\"colab-df-quickchart\" onclick=\"quickchart('df-966a952e-b0c6-4573-afb8-35e688f1264e')\"\n",
              "                title=\"Suggest charts\"\n",
              "                style=\"display:none;\">\n",
              "\n",
              "<svg xmlns=\"http://www.w3.org/2000/svg\" height=\"24px\"viewBox=\"0 0 24 24\"\n",
              "     width=\"24px\">\n",
              "    <g>\n",
              "        <path d=\"M19 3H5c-1.1 0-2 .9-2 2v14c0 1.1.9 2 2 2h14c1.1 0 2-.9 2-2V5c0-1.1-.9-2-2-2zM9 17H7v-7h2v7zm4 0h-2V7h2v10zm4 0h-2v-4h2v4z\"/>\n",
              "    </g>\n",
              "</svg>\n",
              "      </button>\n",
              "\n",
              "<style>\n",
              "  .colab-df-quickchart {\n",
              "      --bg-color: #E8F0FE;\n",
              "      --fill-color: #1967D2;\n",
              "      --hover-bg-color: #E2EBFA;\n",
              "      --hover-fill-color: #174EA6;\n",
              "      --disabled-fill-color: #AAA;\n",
              "      --disabled-bg-color: #DDD;\n",
              "  }\n",
              "\n",
              "  [theme=dark] .colab-df-quickchart {\n",
              "      --bg-color: #3B4455;\n",
              "      --fill-color: #D2E3FC;\n",
              "      --hover-bg-color: #434B5C;\n",
              "      --hover-fill-color: #FFFFFF;\n",
              "      --disabled-bg-color: #3B4455;\n",
              "      --disabled-fill-color: #666;\n",
              "  }\n",
              "\n",
              "  .colab-df-quickchart {\n",
              "    background-color: var(--bg-color);\n",
              "    border: none;\n",
              "    border-radius: 50%;\n",
              "    cursor: pointer;\n",
              "    display: none;\n",
              "    fill: var(--fill-color);\n",
              "    height: 32px;\n",
              "    padding: 0;\n",
              "    width: 32px;\n",
              "  }\n",
              "\n",
              "  .colab-df-quickchart:hover {\n",
              "    background-color: var(--hover-bg-color);\n",
              "    box-shadow: 0 1px 2px rgba(60, 64, 67, 0.3), 0 1px 3px 1px rgba(60, 64, 67, 0.15);\n",
              "    fill: var(--button-hover-fill-color);\n",
              "  }\n",
              "\n",
              "  .colab-df-quickchart-complete:disabled,\n",
              "  .colab-df-quickchart-complete:disabled:hover {\n",
              "    background-color: var(--disabled-bg-color);\n",
              "    fill: var(--disabled-fill-color);\n",
              "    box-shadow: none;\n",
              "  }\n",
              "\n",
              "  .colab-df-spinner {\n",
              "    border: 2px solid var(--fill-color);\n",
              "    border-color: transparent;\n",
              "    border-bottom-color: var(--fill-color);\n",
              "    animation:\n",
              "      spin 1s steps(1) infinite;\n",
              "  }\n",
              "\n",
              "  @keyframes spin {\n",
              "    0% {\n",
              "      border-color: transparent;\n",
              "      border-bottom-color: var(--fill-color);\n",
              "      border-left-color: var(--fill-color);\n",
              "    }\n",
              "    20% {\n",
              "      border-color: transparent;\n",
              "      border-left-color: var(--fill-color);\n",
              "      border-top-color: var(--fill-color);\n",
              "    }\n",
              "    30% {\n",
              "      border-color: transparent;\n",
              "      border-left-color: var(--fill-color);\n",
              "      border-top-color: var(--fill-color);\n",
              "      border-right-color: var(--fill-color);\n",
              "    }\n",
              "    40% {\n",
              "      border-color: transparent;\n",
              "      border-right-color: var(--fill-color);\n",
              "      border-top-color: var(--fill-color);\n",
              "    }\n",
              "    60% {\n",
              "      border-color: transparent;\n",
              "      border-right-color: var(--fill-color);\n",
              "    }\n",
              "    80% {\n",
              "      border-color: transparent;\n",
              "      border-right-color: var(--fill-color);\n",
              "      border-bottom-color: var(--fill-color);\n",
              "    }\n",
              "    90% {\n",
              "      border-color: transparent;\n",
              "      border-bottom-color: var(--fill-color);\n",
              "    }\n",
              "  }\n",
              "</style>\n",
              "\n",
              "      <script>\n",
              "        async function quickchart(key) {\n",
              "          const quickchartButtonEl =\n",
              "            document.querySelector('#' + key + ' button');\n",
              "          quickchartButtonEl.disabled = true;  // To prevent multiple clicks.\n",
              "          quickchartButtonEl.classList.add('colab-df-spinner');\n",
              "          try {\n",
              "            const charts = await google.colab.kernel.invokeFunction(\n",
              "                'suggestCharts', [key], {});\n",
              "          } catch (error) {\n",
              "            console.error('Error during call to suggestCharts:', error);\n",
              "          }\n",
              "          quickchartButtonEl.classList.remove('colab-df-spinner');\n",
              "          quickchartButtonEl.classList.add('colab-df-quickchart-complete');\n",
              "        }\n",
              "        (() => {\n",
              "          let quickchartButtonEl =\n",
              "            document.querySelector('#df-966a952e-b0c6-4573-afb8-35e688f1264e button');\n",
              "          quickchartButtonEl.style.display =\n",
              "            google.colab.kernel.accessAllowed ? 'block' : 'none';\n",
              "        })();\n",
              "      </script>\n",
              "    </div>\n",
              "\n",
              "    </div>\n",
              "  </div>\n"
            ],
            "application/vnd.google.colaboratory.intrinsic+json": {
              "type": "dataframe",
              "summary": "{\n  \"name\": \"display(train_df[['text', 'clean_text']]\",\n  \"rows\": 10,\n  \"fields\": [\n    {\n      \"column\": \"text\",\n      \"properties\": {\n        \"dtype\": \"string\",\n        \"num_unique_values\": 10,\n        \"samples\": [\n          \"@HearItFromPa Also pls help us w/ our campaign to warn the public about the hazardous keratin treatments. The Brazilian Blowout COPYCATS.\",\n          \"Do you feel like you are sinking in unhappiness? Take the quiz: http://t.co/BTjPEO0Bto http://t.co/ClyJ32L333\",\n          \"Flooding ???? http://t.co/WVeO9ED10e\"\n        ],\n        \"semantic_type\": \"\",\n        \"description\": \"\"\n      }\n    },\n    {\n      \"column\": \"clean_text\",\n      \"properties\": {\n        \"dtype\": \"string\",\n        \"num_unique_values\": 10,\n        \"samples\": [\n          \"also pls help u w campaign warn public hazardous keratin treatment brazilian blowout copycat\",\n          \"feel like sinking unhappiness take quiz\",\n          \"flooding\"\n        ],\n        \"semantic_type\": \"\",\n        \"description\": \"\"\n      }\n    }\n  ]\n}"
            }
          },
          "metadata": {}
        }
      ]
    },
    {
      "cell_type": "markdown",
      "source": [
        "3. MODELO :BOLSA DE PALABRAS (BoW) - REPRESENTACIÓN BINARIA"
      ],
      "metadata": {
        "id": "iXtPYeRxVlQx"
      }
    },
    {
      "cell_type": "code",
      "source": [
        "#importes necesarios\n",
        "\n",
        "from sklearn.feature_extraction.text import CountVectorizer\n",
        "import numpy as np\n",
        "import matplotlib.pyplot as plt"
      ],
      "metadata": {
        "id": "38mT6tWhVftg"
      },
      "execution_count": 52,
      "outputs": []
    },
    {
      "cell_type": "markdown",
      "source": [
        "ANÁLISIS EXPLORATORIO PARA ELEGIR min_df (M)"
      ],
      "metadata": {
        "id": "ZPISdYOAVomx"
      }
    },
    {
      "cell_type": "markdown",
      "source": [
        "Procedimiento:\n",
        "1. Construir un vectorizador temporal sin min_df para calcular la frecuencia por término en entrenamiento.\n",
        "2. Visualizar cuantiles y histograma de frecuencias de aparición por palabra.\n",
        "3. Seleccionar M en base a la cola larga: queremos eliminar palabras que aparecen en muy pocos tuits."
      ],
      "metadata": {
        "id": "I8WnhYsZVrR7"
      }
    },
    {
      "cell_type": "code",
      "source": [
        "#vectors temporal (sin min_df) para exploración\n",
        "vectorizer_tmp = CountVectorizer(binary=True)\n",
        "X_tmp = vectorizer_tmp.fit_transform(train_df['clean_text'])\n",
        "\n",
        "#suma por columna = en cuántos documentos aparece cada término\n",
        "freq_por_palabra = np.asarray(X_tmp.sum(axis=0)).ravel()\n",
        "\n",
        "#estadísticas y cuantiles\n",
        "quantiles = np.quantile(freq_por_palabra, [0.01, 0.05, 0.1, 0.25, 0.5, 0.75, 0.9, 0.99])\n",
        "print(\"Quantiles de frecuencia por palabra (número de tuits en los que aparece):\")\n",
        "print(dict(zip([\"1%\",\n",
        "                \"5%\",\n",
        "                \"10%\",\n",
        "                \"25%\",\n",
        "                \"50%\",\n",
        "                \"75%\",\n",
        "                \"90%\",\n",
        "                \"99%\"],\n",
        "               quantiles)))\n",
        "\n",
        "#histograma}\n",
        "plt.figure(figsize=(8,4))\n",
        "plt.hist(freq_por_palabra, bins=100)\n",
        "plt.yscale('log')\n",
        "plt.xlabel(\"Número de tuits en los que aparece la palabra\")\n",
        "plt.ylabel(\"Cuenta de palabras (escala log)\")\n",
        "plt.title(\"Distribución de frecuencia por palabra (train)\")\n",
        "plt.show()"
      ],
      "metadata": {
        "id": "S-z_BFK4Vfqp",
        "colab": {
          "base_uri": "https://localhost:8080/",
          "height": 465
        },
        "outputId": "8ca016f9-cf28-482c-fe90-b0a711956bc6"
      },
      "execution_count": 53,
      "outputs": [
        {
          "output_type": "stream",
          "name": "stdout",
          "text": [
            "Quantiles de frecuencia por palabra (número de tuits en los que aparece):\n",
            "{'1%': np.float64(1.0), '5%': np.float64(1.0), '10%': np.float64(1.0), '25%': np.float64(1.0), '50%': np.float64(1.0), '75%': np.float64(3.0), '90%': np.float64(9.0), '99%': np.float64(45.0)}\n"
          ]
        },
        {
          "output_type": "display_data",
          "data": {
            "text/plain": [
              "<Figure size 800x400 with 1 Axes>"
            ],
            "image/png": "[encoded data removed]"
          },
          "metadata": {}
        }
      ]
    },
    {
      "cell_type": "markdown",
      "source": [
        "CONSTRUCCIÓN DEL CountVectorizer (binario) Y AJUSTE SOLO SOBRE EL ENTRENAMIENTO"
      ],
      "metadata": {
        "id": "1uoTGBBTVwnx"
      }
    },
    {
      "cell_type": "code",
      "source": [
        "M = 1\n",
        "# Construimos el vectorizador binario con el umbral elegido\n",
        "vectorizer = CountVectorizer(binary=True, min_df=M)\n",
        "\n",
        "# Ajuste (fit) únicamente con el conjunto de entrenamiento\n",
        "X_train = vectorizer.fit_transform(train_df['clean_text'])\n",
        "\n",
        "# Transformación del conjunto de prueba usando la MISMA instancia (sin volver a fit)\n",
        "X_test = vectorizer.transform(test_df['clean_text'])\n",
        "\n",
        "# Formas y tamaño del vocabulario\n",
        "print(\"Dimensiones X_train:\", X_train.shape)  # (n_train, vocab_size)\n",
        "print(\"Dimensiones X_test :\", X_test.shape)   # (n_test, vocab_size)\n",
        "print(\"Tamaño del vocabulario (número total de palabras consideradas):\", len(vectorizer.vocabulary_))"
      ],
      "metadata": {
        "id": "3IKS_zIIVfnI",
        "colab": {
          "base_uri": "https://localhost:8080/"
        },
        "outputId": "eb3828d2-5ae4-4eb1-d539-5a0c001f1d4f"
      },
      "execution_count": 76,
      "outputs": [
        {
          "output_type": "stream",
          "name": "stdout",
          "text": [
            "Dimensiones X_train: (5329, 10870)\n",
            "Dimensiones X_test : (2284, 10870)\n",
            "Tamaño del vocabulario (número total de palabras consideradas): 10870\n"
          ]
        }
      ]
    },
    {
      "cell_type": "markdown",
      "source": [
        "INSPECCIÓN DE VOCABUÑARIO Y TÉRMINOS FRECUENTES"
      ],
      "metadata": {
        "id": "V40PuytqV2La"
      }
    },
    {
      "cell_type": "code",
      "source": [
        "# Mostrar 20 primeros términos del vocabulario (orden alfabético o index->token)\n",
        "feature_names = np.array(vectorizer.get_feature_names_out())\n",
        "print(\"Primeras 20 palabras del vocabulario (ejemplo):\")\n",
        "print(feature_names[:20])\n",
        "\n",
        "# Mostrar 20 términos más frecuentes en el train (por número de tuits en que aparecen)\n",
        "sums = np.asarray(X_train.sum(axis=0)).ravel()  # cuenta de documentos por término\n",
        "top_idx = np.argsort(sums)[-20:][::-1]  # top 20 más frecuentes\n",
        "print(\"\\nTop 20 términos más presentes (por número de tuits):\")\n",
        "for idx in top_idx:\n",
        "    print(f\"{feature_names[idx]}  -> aparece en {sums[idx]:.0f} tuits\")"
      ],
      "metadata": {
        "id": "A8wlzuCwVfjZ",
        "colab": {
          "base_uri": "https://localhost:8080/"
        },
        "outputId": "1cd36495-3c22-4f86-f8b4-4cbd23e4904e"
      },
      "execution_count": 77,
      "outputs": [
        {
          "output_type": "stream",
          "name": "stdout",
          "text": [
            "Primeras 20 palabras del vocabulario (ejemplo):\n",
            "['aa' 'aaaaaaallll' 'aaaaaand' 'aal' 'aampb' 'aan' 'aannnnd' 'aar'\n",
            " 'aashiqui' 'ab' 'aba' 'abandon' 'abandoned' 'abandoning' 'abbandoned'\n",
            " 'abbott' 'abbswinston' 'abc' 'abceyewitness' 'abcnews']\n",
            "\n",
            "Top 20 términos más presentes (por número de tuits):\n",
            "like  -> aparece en 231 tuits\n",
            "fire  -> aparece en 229 tuits\n",
            "im  -> aparece en 198 tuits\n",
            "amp  -> aparece en 179 tuits\n",
            "get  -> aparece en 175 tuits\n",
            "new  -> aparece en 167 tuits\n",
            "via  -> aparece en 152 tuits\n",
            "dont  -> aparece en 137 tuits\n",
            "one  -> aparece en 136 tuits\n",
            "people  -> aparece en 133 tuits\n",
            "news  -> aparece en 128 tuits\n",
            "time  -> aparece en 121 tuits\n",
            "video  -> aparece en 109 tuits\n",
            "year  -> aparece en 104 tuits\n",
            "emergency  -> aparece en 103 tuits\n",
            "body  -> aparece en 103 tuits\n",
            "police  -> aparece en 100 tuits\n",
            "disaster  -> aparece en 100 tuits\n",
            "building  -> aparece en 98 tuits\n",
            "day  -> aparece en 97 tuits\n"
          ]
        }
      ]
    },
    {
      "cell_type": "markdown",
      "source": [
        "4. REGRESIÓN LOGÍSTICA"
      ],
      "metadata": {
        "id": "7tJq0H_UWPpV"
      }
    },
    {
      "cell_type": "code",
      "source": [
        "from sklearn.linear_model import LogisticRegression\n",
        "from sklearn.model_selection import GridSearchCV\n",
        "from sklearn.metrics import f1_score, classification_report, ConfusionMatrixDisplay\n",
        "import matplotlib.pyplot as plt\n",
        "import numpy as np"
      ],
      "metadata": {
        "id": "QaL7XdubVff1"
      },
      "execution_count": 58,
      "outputs": []
    },
    {
      "cell_type": "markdown",
      "source": [
        "MODELOS SIN REGULACIÓN (penalty=None)"
      ],
      "metadata": {
        "id": "kU-_wVShWSsH"
      }
    },
    {
      "cell_type": "code",
      "source": [
        "# Entrenamiento del modelo sin regularización\n",
        "logreg_no_pen = LogisticRegression(penalty=None, max_iter=1000)\n",
        "logreg_no_pen.fit(X_train, y_train)\n",
        "\n",
        "# Predicciones\n",
        "y_pred_train_no = logreg_no_pen.predict(X_train)\n",
        "y_pred_test_no = logreg_no_pen.predict(X_test)\n",
        "\n",
        "# Cálculo del F1-score\n",
        "f1_train_no = f1_score(y_train, y_pred_train_no)\n",
        "f1_test_no = f1_score(y_test, y_pred_test_no)\n",
        "\n",
        "print(\"F1-score (Entrenamiento, sin regularización):\", f1_train_no)\n",
        "print(\"F1-score (Prueba, sin regularización):\", f1_test_no)"
      ],
      "metadata": {
        "id": "19Eh6g7lVfcW",
        "colab": {
          "base_uri": "https://localhost:8080/"
        },
        "outputId": "60eb4036-3744-4a65-985a-a1dbc67fecb3"
      },
      "execution_count": 78,
      "outputs": [
        {
          "output_type": "stream",
          "name": "stdout",
          "text": [
            "F1-score (Entrenamiento, sin regularización): 0.9868189806678384\n",
            "F1-score (Prueba, sin regularización): 0.7401101652478718\n"
          ]
        }
      ]
    },
    {
      "cell_type": "markdown",
      "source": [
        "MODELO CON REGULARIZACIÓN L1 (Lasso)"
      ],
      "metadata": {
        "id": "aq0itx6fWVwT"
      }
    },
    {
      "cell_type": "markdown",
      "source": [
        "El parámetro C controla la fuerza de la penalización:\n",
        "- Valores bajos de C implican una regularización más fuerte.\n",
        "- Valores altos de C reducen el efecto de la regularización.\n",
        "\n",
        "Para seleccionar el valor óptimo de C, se aplicará una búsqueda por cuadrícula\n",
        "(GridSearchCV) con validación cruzada de 5 pliegues."
      ],
      "metadata": {
        "id": "NFEVgf4EWYAT"
      }
    },
    {
      "cell_type": "code",
      "source": [
        "# Definición de los valores candidatos para C\n",
        "param_grid = {'C': [0.01, 0.1, 1, 10, 100]}\n",
        "\n",
        "# Definición del modelo con L1\n",
        "logreg_L1 = LogisticRegression(penalty='l1', solver='liblinear', max_iter=1000)\n",
        "\n",
        "# Búsqueda por cuadrícula\n",
        "grid_L1 = GridSearchCV(logreg_L1, param_grid, scoring='f1', cv=5, n_jobs=-1)\n",
        "grid_L1.fit(X_train, y_train)\n",
        "\n",
        "# Mejor modelo obtenido\n",
        "best_L1 = grid_L1.best_estimator_\n",
        "best_C_L1 = grid_L1.best_params_['C']\n",
        "\n",
        "# Evaluación\n",
        "f1_train_L1 = f1_score(y_train, best_L1.predict(X_train))\n",
        "f1_test_L1 = f1_score(y_test, best_L1.predict(X_test))\n",
        "\n",
        "print(\"Mejor parámetro C (L1):\", best_C_L1)\n",
        "print(\"F1-score (Entrenamiento, L1):\", f1_train_L1)\n",
        "print(\"F1-score (Prueba, L1):\", f1_test_L1)"
      ],
      "metadata": {
        "id": "pPoARvisUrcw",
        "colab": {
          "base_uri": "https://localhost:8080/"
        },
        "outputId": "619f2807-29f7-4b49-eaab-14e4bf1264df"
      },
      "execution_count": 82,
      "outputs": [
        {
          "output_type": "stream",
          "name": "stdout",
          "text": [
            "Mejor parámetro C (L1): 1\n",
            "F1-score (Entrenamiento, L1): 0.8520490854364436\n",
            "F1-score (Prueba, L1): 0.7508125677139762\n"
          ]
        }
      ]
    },
    {
      "cell_type": "markdown",
      "source": [
        "MODELO CON REGULARIZACIÓN L2"
      ],
      "metadata": {
        "id": "KHyUFv56Wdu9"
      }
    },
    {
      "cell_type": "markdown",
      "source": [
        "La regularización L2 (Ridge) penaliza la suma de los cuadrados de los coeficientes. A diferencia de L1, no genera coeficientes exactamente nulos, pero reduce su magnitud, controlando el sobreajuste y mejorando la estabilidad del modelo. Se utiliza el mismo procedimiento de búsqueda del parámetro C mediante validación cruzada"
      ],
      "metadata": {
        "id": "L6JH1n1IWfYM"
      }
    },
    {
      "cell_type": "code",
      "source": [
        "logreg_L2 = LogisticRegression(penalty='l2', solver='liblinear', max_iter=1000)\n",
        "grid_L2 = GridSearchCV(logreg_L2, param_grid, scoring='f1', cv=5, n_jobs=-1)\n",
        "grid_L2.fit(X_train, y_train)\n",
        "\n",
        "best_L2 = grid_L2.best_estimator_\n",
        "best_C_L2 = grid_L2.best_params_['C']\n",
        "\n",
        "f1_train_L2 = f1_score(y_train, best_L2.predict(X_train))\n",
        "f1_test_L2 = f1_score(y_test, best_L2.predict(X_test))\n",
        "\n",
        "print(\"Mejor parámetro C (L2):\", best_C_L2)\n",
        "print(\"F1-score (Entrenamiento, L2):\", f1_train_L2)\n",
        "print(\"F1-score (Prueba, L2):\", f1_test_L2)"
      ],
      "metadata": {
        "id": "nxCsuHbKUrZW",
        "colab": {
          "base_uri": "https://localhost:8080/"
        },
        "outputId": "7b23416f-2f4d-4082-e075-e28d9365574b"
      },
      "execution_count": 83,
      "outputs": [
        {
          "output_type": "stream",
          "name": "stdout",
          "text": [
            "Mejor parámetro C (L2): 1\n",
            "F1-score (Entrenamiento, L2): 0.9497860842152668\n",
            "F1-score (Prueba, L2): 0.7505399568034558\n"
          ]
        }
      ]
    },
    {
      "cell_type": "markdown",
      "source": [
        "COMPARACIÓN DE TRES MODELOS Y ANALISIS DE RESULTADOS"
      ],
      "metadata": {
        "id": "v4M4SQtLWjjw"
      }
    },
    {
      "cell_type": "code",
      "source": [
        "print(\"\\n=== COMPARACIÓN DE MODELOS DE REGRESIÓN LOGÍSTICA ===\")\n",
        "print(f\"Sin regularización:   F1 (Train)={f1_train_no:.3f} | F1 (Test)={f1_test_no:.3f}\")\n",
        "print(f\"Regularización L1:    F1 (Train)={f1_train_L1:.3f} | F1 (Test)={f1_test_L1:.3f}\")\n",
        "print(f\"Regularización L2:    F1 (Train)={f1_train_L2:.3f} | F1 (Test)={f1_test_L2:.3f}\")"
      ],
      "metadata": {
        "id": "kP2t8HHiUrV-",
        "colab": {
          "base_uri": "https://localhost:8080/"
        },
        "outputId": "5db36930-24a7-498e-ce61-ab164169c3d4"
      },
      "execution_count": 84,
      "outputs": [
        {
          "output_type": "stream",
          "name": "stdout",
          "text": [
            "\n",
            "=== COMPARACIÓN DE MODELOS DE REGRESIÓN LOGÍSTICA ===\n",
            "Sin regularización:   F1 (Train)=0.987 | F1 (Test)=0.740\n",
            "Regularización L1:    F1 (Train)=0.852 | F1 (Test)=0.751\n",
            "Regularización L2:    F1 (Train)=0.950 | F1 (Test)=0.751\n"
          ]
        }
      ]
    },
    {
      "cell_type": "markdown",
      "source": [
        "INSPECCIÓN DEL VECTOR DE PESOS (modelo con regularización L1)"
      ],
      "metadata": {
        "id": "4QOsR2aeWoEn"
      }
    },
    {
      "cell_type": "markdown",
      "source": [
        "Se identificarán las palabras más influyentes para predecir si un tuit trata sobre un desastre real (coeficientes positivos) o no(coeficientes negativos). El modelo L1 es el más apropiado para esta tarea interpretativa, pues fuerza muchos coeficientes a cero, destacando solo los términos relevantes."
      ],
      "metadata": {
        "id": "khtDnrkSWpJg"
      }
    },
    {
      "cell_type": "code",
      "source": [
        "# Extracción de nombres de las características (palabras)\n",
        "feature_names = np.array(vectorizer.get_feature_names_out())\n",
        "\n",
        "# Coeficientes del modelo L1\n",
        "coef = best_L1.coef_.flatten()\n",
        "\n",
        "# Palabras más asociadas a desastres (coeficientes positivos)\n",
        "top_positive = feature_names[np.argsort(coef)[-10:]][::-1]\n",
        "\n",
        "# Palabras más asociadas a no-desastres (coeficientes negativos)\n",
        "top_negative = feature_names[np.argsort(coef)[:10]]\n",
        "\n",
        "print(\"Palabras más asociadas a desastres reales:\", top_positive)\n",
        "print(\"Palabras más asociadas a no-desastres:\", top_negative)"
      ],
      "metadata": {
        "id": "uDR2Bdidgj5W",
        "colab": {
          "base_uri": "https://localhost:8080/"
        },
        "outputId": "dff1290c-a62c-4194-c194-d210d5373bd8"
      },
      "execution_count": 85,
      "outputs": [
        {
          "output_type": "stream",
          "name": "stdout",
          "text": [
            "Palabras más asociadas a desastres reales: ['spill' 'airport' 'typhoon' 'hiroshima' 'migrant' 'wildfire' 'debris'\n",
            " 'learning' 'earthquake' 'outbreak']\n",
            "Palabras más asociadas a no-desastres: ['poll' 'technology' 'welcome' 'led' 'social' 'ticket' 'agency' 'entire'\n",
            " 'lmao' 'phone']\n"
          ]
        }
      ]
    },
    {
      "cell_type": "markdown",
      "source": [
        "5. CLASIFICADOR NAIVE BAYES DE BERNOULLI"
      ],
      "metadata": {
        "id": "Spds9lp7WuUT"
      }
    },
    {
      "cell_type": "code",
      "source": [
        "#librerías necesarias\n",
        "from sklearn.naive_bayes import BernoulliNB\n",
        "from sklearn.metrics import f1_score, classification_report"
      ],
      "metadata": {
        "id": "5NBqkKYsWnw5"
      },
      "execution_count": 64,
      "outputs": []
    },
    {
      "cell_type": "markdown",
      "source": [
        "ENTRENAMIENTO DEL MODELO BERNULLI NAIVE BAYES CON SUAVIZADO DE LAPLACE (α=1)"
      ],
      "metadata": {
        "id": "D2Evz7HcW2Ew"
      }
    },
    {
      "cell_type": "markdown",
      "source": [
        "El parámetro `alpha` controla el nivel de suavizado de Laplace.\n",
        "- α = 0 implica ausencia de suavizado (puede generar ceros).\n",
        "- α > 0 evita probabilidades nulas y mejora la estabilidad del modelo.\n",
        "Se usa α = 1 como valor estándar (Laplace smoothing)."
      ],
      "metadata": {
        "id": "q9g2U0x2W0Ty"
      }
    },
    {
      "cell_type": "code",
      "source": [
        "# Creación del modelo\n",
        "nb_bernoulli = BernoulliNB(alpha=1)\n",
        "\n",
        "# Entrenamiento del modelo con los datos binarios de entrenamiento\n",
        "nb_bernoulli.fit(X_train, y_train)\n",
        "\n",
        "# Predicciones en entrenamiento y prueba\n",
        "y_pred_train_nb = nb_bernoulli.predict(X_train)\n",
        "y_pred_test_nb = nb_bernoulli.predict(X_test)"
      ],
      "metadata": {
        "id": "-7T_ZbzmWnqa"
      },
      "execution_count": 86,
      "outputs": []
    },
    {
      "cell_type": "markdown",
      "source": [
        "EVALUACIÓN DEL MODELO CON LA MÉTRICA F1-SCORE"
      ],
      "metadata": {
        "id": "F7XC-M2EW9Rc"
      }
    },
    {
      "cell_type": "code",
      "source": [
        "# Cálculo de métricas\n",
        "f1_train_nb = f1_score(y_train, y_pred_train_nb)\n",
        "f1_test_nb = f1_score(y_test, y_pred_test_nb)\n",
        "\n",
        "print(\"=== Resultados del modelo Bernoulli Naive Bayes ===\")\n",
        "print(f\"F1-score (Entrenamiento): {f1_train_nb:.3f}\")\n",
        "print(f\"F1-score (Prueba): {f1_test_nb:.3f}\")"
      ],
      "metadata": {
        "id": "nj56i_LxWni9",
        "colab": {
          "base_uri": "https://localhost:8080/"
        },
        "outputId": "2c876475-8c8a-410f-a491-6a7bb91fb608"
      },
      "execution_count": 87,
      "outputs": [
        {
          "output_type": "stream",
          "name": "stdout",
          "text": [
            "=== Resultados del modelo Bernoulli Naive Bayes ===\n",
            "F1-score (Entrenamiento): 0.885\n",
            "F1-score (Prueba): 0.745\n"
          ]
        }
      ]
    },
    {
      "cell_type": "markdown",
      "source": [
        "INFORME DETALLADO DE MÉTRICAS Y MATRIZ DE CONFUSIÓN"
      ],
      "metadata": {
        "id": "ttVaFVmeXAiO"
      }
    },
    {
      "cell_type": "code",
      "source": [
        "# Reporte completo por clase\n",
        "print(\"\\nReporte de clasificación (Bernoulli Naive Bayes):\")\n",
        "print(classification_report(y_test, y_pred_test_nb, digits=3))\n",
        "\n",
        "# Matriz de confusión\n",
        "from sklearn.metrics import ConfusionMatrixDisplay\n",
        "ConfusionMatrixDisplay.from_estimator(nb_bernoulli, X_test, y_test)\n",
        "plt.title(\"Matriz de confusión — Bernoulli Naive Bayes\")\n",
        "plt.show()"
      ],
      "metadata": {
        "id": "79PHdOT_WnfY",
        "colab": {
          "base_uri": "https://localhost:8080/",
          "height": 663
        },
        "outputId": "5047e47a-7f09-4bdf-fcf0-df6681d9a4ef"
      },
      "execution_count": 88,
      "outputs": [
        {
          "output_type": "stream",
          "name": "stdout",
          "text": [
            "\n",
            "Reporte de clasificación (Bernoulli Naive Bayes):\n",
            "              precision    recall  f1-score   support\n",
            "\n",
            "           0      0.781     0.916     0.844      1303\n",
            "           1      0.856     0.660     0.745       981\n",
            "\n",
            "    accuracy                          0.806      2284\n",
            "   macro avg      0.819     0.788     0.794      2284\n",
            "weighted avg      0.813     0.806     0.801      2284\n",
            "\n"
          ]
        },
        {
          "output_type": "display_data",
          "data": {
            "text/plain": [
              "<Figure size 640x480 with 2 Axes>"
            ],
            "image/png": "[encoded data removed]"
          },
          "metadata": {}
        }
      ]
    },
    {
      "cell_type": "markdown",
      "source": [
        "ANÁLISIS DE PALABRAS MÁS INFORMATIVAS"
      ],
      "metadata": {
        "id": "nA8-xNPqXFwo"
      }
    },
    {
      "cell_type": "markdown",
      "source": [
        "Podemos inspeccionar los parámetros del modelo para identificar qué palabras contribuyen más a clasificar un tuit como desastre o no desastre.\n",
        "El atributo `feature_log_prob_` contiene los logaritmos de P(x_i | y)."
      ],
      "metadata": {
        "id": "L6BMVHT2XGT4"
      }
    },
    {
      "cell_type": "code",
      "source": [
        "# Obtener las palabras y probabilidades logarítmicas\n",
        "feature_names = np.array(vectorizer.get_feature_names_out())\n",
        "log_prob = nb_bernoulli.feature_log_prob_\n",
        "\n",
        "# Palabras más asociadas a desastres (clase 1)\n",
        "top_pos_idx = np.argsort(log_prob[1, :] - log_prob[0, :])[-10:]\n",
        "top_pos_words = feature_names[top_pos_idx][::-1]\n",
        "\n",
        "# Palabras más asociadas a no-desastres (clase 0)\n",
        "top_neg_idx = np.argsort(log_prob[0, :] - log_prob[1, :])[-10:]\n",
        "top_neg_words = feature_names[top_neg_idx][::-1]\n",
        "\n",
        "print(\"Palabras más indicativas de desastres:\", top_pos_words)\n",
        "print(\"Palabras más indicativas de no desastres:\", top_neg_words)"
      ],
      "metadata": {
        "id": "nGzM3PmJWnTT",
        "colab": {
          "base_uri": "https://localhost:8080/"
        },
        "outputId": "d6046742-d83e-4634-e94d-69afb595e0f1"
      },
      "execution_count": 68,
      "outputs": [
        {
          "output_type": "stream",
          "name": "stdout",
          "text": [
            "Palabras más indicativas de desastres: ['bomber' 'northern' 'severe' 'debris' 'hiroshima' 'spill' 'anniversary'\n",
            " 'migrant' 'wildfire' 'suspect']\n",
            "Palabras más indicativas de no desastres: ['bag' 'lmao' 'wrecked' 'career' 'disney' 'ruin' 'quiz' 'blazing' 'lady'\n",
            " 'crush']\n"
          ]
        }
      ]
    },
    {
      "cell_type": "markdown",
      "source": [
        "6. MODELO DE N-GRAMAS (Bigramas)"
      ],
      "metadata": {
        "id": "TCudUm0xXL77"
      }
    },
    {
      "cell_type": "code",
      "source": [
        "#librerías\n",
        "from sklearn.feature_extraction.text import CountVectorizer\n",
        "from sklearn.linear_model import LogisticRegression\n",
        "from sklearn.naive_bayes import BernoulliNB\n",
        "from sklearn.metrics import f1_score\n",
        "import numpy as np"
      ],
      "metadata": {
        "id": "rWfY5VXhXCCh"
      },
      "execution_count": 69,
      "outputs": []
    },
    {
      "cell_type": "markdown",
      "source": [
        "CONSTRUCCIÓN DEL MODELO DE BIGRAMAS"
      ],
      "metadata": {
        "id": "kmeD9k_JXQGL"
      }
    },
    {
      "cell_type": "code",
      "source": [
        "M2 = 3\n",
        "\n",
        "vectorizer_bigram = CountVectorizer(binary=True, ngram_range=(2,2), min_df=M2)\n",
        "\n",
        "# Ajustar solo sobre entrenamiento\n",
        "X_train_bi = vectorizer_bigram.fit_transform(train_df['clean_text'])\n",
        "X_test_bi  = vectorizer_bigram.transform(test_df['clean_text'])\n",
        "\n",
        "print(\"Dimensiones X_train (bigramas):\", X_train_bi.shape)\n",
        "print(\"Tamaño del vocabulario (número de bigramas):\", len(vectorizer_bigram.vocabulary_))"
      ],
      "metadata": {
        "id": "AbKiqFZgXB_D",
        "colab": {
          "base_uri": "https://localhost:8080/"
        },
        "outputId": "ac19ff54-b374-487c-cee6-6fd06dd328cb"
      },
      "execution_count": 70,
      "outputs": [
        {
          "output_type": "stream",
          "name": "stdout",
          "text": [
            "Dimensiones X_train (bigramas): (5329, 1481)\n",
            "Tamaño del vocabulario (número de bigramas): 1481\n"
          ]
        }
      ]
    },
    {
      "cell_type": "markdown",
      "source": [
        "INSPECCIÓN DE ALGUNOS BIGRAMAS"
      ],
      "metadata": {
        "id": "jaefbBVoXTSa"
      }
    },
    {
      "cell_type": "code",
      "source": [
        "# Mostrar 10 bigramas del vocabulario\n",
        "bigrams = np.array(vectorizer_bigram.get_feature_names_out())\n",
        "print(\"10 bigramas del vocabulario:\")\n",
        "print(bigrams[:10])"
      ],
      "metadata": {
        "id": "8KHU3bLSXB7t",
        "colab": {
          "base_uri": "https://localhost:8080/"
        },
        "outputId": "e58933d2-bec6-4dd8-f6e3-99b2d89b1e97"
      },
      "execution_count": 89,
      "outputs": [
        {
          "output_type": "stream",
          "name": "stdout",
          "text": [
            "10 bigramas del vocabulario:\n",
            "['aba woman' 'abandoned aircraft' 'abc news' 'access secret'\n",
            " 'accident expert' 'accident indian' 'accident man' 'accident property'\n",
            " 'account hiroshima' 'accuses nema']\n"
          ]
        }
      ]
    },
    {
      "cell_type": "markdown",
      "source": [
        "MODELO 1: REGRESIÓN LOGÍSTICA (von regularización 2)"
      ],
      "metadata": {
        "id": "AL8Gg8VTXWi8"
      }
    },
    {
      "cell_type": "code",
      "source": [
        "logreg_bigram = LogisticRegression(penalty='l2', solver='liblinear', max_iter=1000, C=best_C_L2)\n",
        "logreg_bigram.fit(X_train_bi, y_train)\n",
        "\n",
        "y_pred_train_bi_LR = logreg_bigram.predict(X_train_bi)\n",
        "y_pred_test_bi_LR  = logreg_bigram.predict(X_test_bi)\n",
        "\n",
        "f1_train_bi_LR = f1_score(y_train, y_pred_train_bi_LR)\n",
        "f1_test_bi_LR  = f1_score(y_test, y_pred_test_bi_LR)\n",
        "\n",
        "print(\"F1-score Regresión Logística (bigramas):\")\n",
        "print(f\"Entrenamiento: {f1_train_bi_LR:.3f} | Prueba: {f1_test_bi_LR:.3f}\")"
      ],
      "metadata": {
        "id": "19OAbA4bXBWv",
        "colab": {
          "base_uri": "https://localhost:8080/"
        },
        "outputId": "2187565a-700a-424a-f94a-08803d735018"
      },
      "execution_count": 90,
      "outputs": [
        {
          "output_type": "stream",
          "name": "stdout",
          "text": [
            "F1-score Regresión Logística (bigramas):\n",
            "Entrenamiento: 0.640 | Prueba: 0.574\n"
          ]
        }
      ]
    },
    {
      "cell_type": "markdown",
      "source": [
        "MODELO 2: BERNOULLI NAIVE BAYES (bigramas)"
      ],
      "metadata": {
        "id": "0ncFfxyyXgFa"
      }
    },
    {
      "cell_type": "markdown",
      "source": [
        "Aplicamos el mismo clasificador Naive Bayes Bernoulli sobre la representación de bigramas, manteniendo α = 1 (suavizado de Laplace)."
      ],
      "metadata": {
        "id": "rtnCUf11Xhf6"
      }
    },
    {
      "cell_type": "code",
      "source": [
        "nb_bigram = BernoulliNB(alpha=1)\n",
        "nb_bigram.fit(X_train_bi, y_train)\n",
        "\n",
        "y_pred_train_bi_NB = nb_bigram.predict(X_train_bi)\n",
        "y_pred_test_bi_NB  = nb_bigram.predict(X_test_bi)\n",
        "\n",
        "f1_train_bi_NB = f1_score(y_train, y_pred_train_bi_NB)\n",
        "f1_test_bi_NB  = f1_score(y_test, y_pred_test_bi_NB)\n",
        "\n",
        "print(\"F1-score Bernoulli Naive Bayes (bigramas):\")\n",
        "print(f\"Entrenamiento: {f1_train_bi_NB:.3f} | Prueba: {f1_test_bi_NB:.3f}\")"
      ],
      "metadata": {
        "id": "CzA_AKMsXesC",
        "colab": {
          "base_uri": "https://localhost:8080/"
        },
        "outputId": "be14e96b-f6b9-417e-d957-3cda8a9ecce7"
      },
      "execution_count": 73,
      "outputs": [
        {
          "output_type": "stream",
          "name": "stdout",
          "text": [
            "F1-score Bernoulli Naive Bayes (bigramas):\n",
            "Entrenamiento: 0.592 | Prueba: 0.549\n"
          ]
        }
      ]
    },
    {
      "cell_type": "markdown",
      "source": [
        "COMPARACIÓN CON EL MODELO DE BOLSA DE PALABRAS (unigrama)"
      ],
      "metadata": {
        "id": "8i__ADTaXlDr"
      }
    },
    {
      "cell_type": "code",
      "source": [
        "print(\"\\n=== COMPARACIÓN FINAL DE MODELOS ===\")\n",
        "print(\"Modelo\\t\\t\\tF1 (Train)\\tF1 (Test)\")\n",
        "print(f\"BoW + LogReg (L2)\\t{f1_train_L2:.3f}\\t\\t{f1_test_L2:.3f}\")\n",
        "print(f\"BoW + Naive Bayes\\t{f1_train_nb:.3f}\\t\\t{f1_test_nb:.3f}\")\n",
        "print(f\"Bigramas + LogReg\\t{f1_train_bi_LR:.3f}\\t\\t{f1_test_bi_LR:.3f}\")\n",
        "print(f\"Bigramas + NB\\t\\t{f1_train_bi_NB:.3f}\\t\\t{f1_test_bi_NB:.3f}\")"
      ],
      "metadata": {
        "id": "3Q44W1SeXenc",
        "colab": {
          "base_uri": "https://localhost:8080/"
        },
        "outputId": "0690c09b-0a8b-4e91-d1d8-eb2cdf73e952"
      },
      "execution_count": 74,
      "outputs": [
        {
          "output_type": "stream",
          "name": "stdout",
          "text": [
            "\n",
            "=== COMPARACIÓN FINAL DE MODELOS ===\n",
            "Modelo\t\t\tF1 (Train)\tF1 (Test)\n",
            "BoW + LogReg (L2)\t0.910\t\t0.756\n",
            "BoW + Naive Bayes\t0.837\t\t0.756\n",
            "Bigramas + LogReg\t0.640\t\t0.574\n",
            "Bigramas + NB\t\t0.592\t\t0.549\n"
          ]
        }
      ]
    },
    {
      "cell_type": "markdown",
      "source": [
        "VISUALIZACIÓN DE LAS PALABRAS/BIGRAMAS MÁS INFLUYENTES"
      ],
      "metadata": {
        "id": "6wZEnehDXoT_"
      }
    },
    {
      "cell_type": "markdown",
      "source": [
        "Se muestra los bigramas con mayor peso en el modelo de regresión logística, lo cual ayuda a interpretar las asociaciones relevantes."
      ],
      "metadata": {
        "id": "xrgRIUqdXp5S"
      }
    },
    {
      "cell_type": "code",
      "source": [
        "coef_bi = logreg_bigram.coef_.flatten()\n",
        "feature_names_bi = np.array(vectorizer_bigram.get_feature_names_out())\n",
        "\n",
        "top_pos_idx = np.argsort(coef_bi)[-10:]\n",
        "top_neg_idx = np.argsort(coef_bi)[:10]\n",
        "\n",
        "print(\"Bigramas más asociados a desastres:\", feature_names_bi[top_pos_idx][::-1])\n",
        "print(\"Bigramas más asociados a no-desastres:\", feature_names_bi[top_neg_idx])"
      ],
      "metadata": {
        "id": "Z7I_aOt9Xebo",
        "colab": {
          "base_uri": "https://localhost:8080/"
        },
        "outputId": "8599f1b5-dc18-4732-dc82-3c0d05dd1b84"
      },
      "execution_count": 75,
      "outputs": [
        {
          "output_type": "stream",
          "name": "stdout",
          "text": [
            "Bigramas más asociados a desastres: ['suicide bombing' 'oil spill' 'wild fire' 'mass murder' 'flash flood'\n",
            " 'hiroshima nagasaki' 'severe thunderstorm' 'suicide bomber'\n",
            " 'train derailed' 'bush fire']\n",
            "Bigramas más asociados a no-desastres: ['cross body' 'body bag' 'dont let' 'pretty much' 'mudslide cake'\n",
            " 'pay pile' 'im traumatised' 'panic attack' 'bayelsa poll' 'poll tension']\n"
          ]
        }
      ]
    },
    {
      "cell_type": "markdown",
      "source": [
        "## Part B: Support Vector Machine and Overfitting."
      ],
      "metadata": {
        "id": "-IkB8hBVgkMy"
      }
    },
    {
      "cell_type": "markdown",
      "source": [
        "### Generar los datos"
      ],
      "metadata": {
        "id": "uLsUlItwhvC7"
      }
    },
    {
      "cell_type": "code",
      "source": [
        "from sklearn.datasets import make_classification\n",
        "from sklearn.model_selection import train_test_split, cross_val_score\n",
        "from sklearn.svm import SVC\n",
        "import numpy as np\n",
        "import matplotlib.pyplot as plt"
      ],
      "metadata": {
        "id": "bnZnobfogmNW"
      },
      "execution_count": 91,
      "outputs": []
    },
    {
      "cell_type": "code",
      "source": [
        "# Generar datos apenas separables linealmente\n",
        "X, y = make_classification(\n",
        "    n_samples=400,\n",
        "    n_features=2,\n",
        "    n_informative=2,\n",
        "    n_redundant=0,\n",
        "    n_clusters_per_class=1,\n",
        "    class_sep=0.5,   # baja separación → difícil pero separable\n",
        "    random_state=42\n",
        ")\n"
      ],
      "metadata": {
        "id": "rBK4qR1xgu7v"
      },
      "execution_count": 92,
      "outputs": []
    },
    {
      "cell_type": "code",
      "source": [
        "# Datos con baja separación → \"barely linearly separable\"\n",
        "X, y = make_classification(\n",
        "    n_samples=400,\n",
        "    n_features=2,\n",
        "    n_informative=2,\n",
        "    n_redundant=0,\n",
        "    n_clusters_per_class=1,\n",
        "    class_sep=0.5,\n",
        "    random_state=42\n",
        ")"
      ],
      "metadata": {
        "id": "aXweC2iAgvbL"
      },
      "execution_count": 93,
      "outputs": []
    },
    {
      "cell_type": "code",
      "source": [
        "# División 70/30\n",
        "X_train, X_test, y_train, y_test = train_test_split(\n",
        "    X, y, test_size=0.3, random_state=42\n",
        ")"
      ],
      "metadata": {
        "id": "BQUsA_ztogqz"
      },
      "execution_count": 94,
      "outputs": []
    },
    {
      "cell_type": "code",
      "source": [
        "# Visualización\n",
        "plt.figure(figsize=(6,5))\n",
        "plt.scatter(X_train[:,0], X_train[:,1], c=y_train, cmap='bwr', alpha=0.8)\n",
        "plt.title(\"Datos de entrenamiento (dos clases apenas separables)\")\n",
        "plt.xlabel(\"Feature 1\")\n",
        "plt.ylabel(\"Feature 2\")\n",
        "plt.show()"
      ],
      "metadata": {
        "colab": {
          "base_uri": "https://localhost:8080/",
          "height": 487
        },
        "id": "Ax-pX0kggvKh",
        "outputId": "7948562f-6bdf-4b10-8cb0-da1392f3bc8e"
      },
      "execution_count": 95,
      "outputs": [
        {
          "output_type": "display_data",
          "data": {
            "text/plain": [
              "<Figure size 600x500 with 1 Axes>"
            ],
            "image/png": "[encoded data removed]"
          },
          "metadata": {}
        }
      ]
    },
    {
      "cell_type": "markdown",
      "source": [
        "### Entrenar SVM con varios valores de C"
      ],
      "metadata": {
        "id": "tYQII3Lcg3Gx"
      }
    },
    {
      "cell_type": "code",
      "source": [
        "# Valores de C a probar\n",
        "C_values = [0.01, 0.1, 1, 10, 100]\n",
        "train_errors = []\n",
        "cv_errors = []\n",
        "train_misclassified = []"
      ],
      "metadata": {
        "id": "dh9fy4_KhA8o"
      },
      "execution_count": 96,
      "outputs": []
    },
    {
      "cell_type": "code",
      "source": [
        "# Almacenamos resultados\n",
        "for C in C_values:\n",
        "    svm = SVC(kernel=\"linear\", C=C, random_state=42)\n",
        "    svm.fit(X_train, y_train)\n",
        "\n",
        "    # Error y conteo de observaciones mal clasificadas en entrenamiento\n",
        "    y_pred_train = svm.predict(X_train)\n",
        "    misclassified = np.sum(y_pred_train != y_train)\n",
        "    train_error = np.mean(y_pred_train != y_train)\n",
        "    train_errors.append(train_error)\n",
        "    train_misclassified.append(misclassified)\n",
        "\n",
        "    # Error de validación cruzada (5-fold)\n",
        "    cv_error = 1 - cross_val_score(svm, X_train, y_train, cv=5).mean()\n",
        "    cv_errors.append(cv_error)"
      ],
      "metadata": {
        "id": "GecRuV7ZhAzv"
      },
      "execution_count": 97,
      "outputs": []
    },
    {
      "cell_type": "code",
      "source": [
        "# Mostrar resultados\n",
        "print(\"Errores de entrenamiento y validación cruzada:\")\n",
        "for i, C in enumerate(C_values):\n",
        "    print(f\"C={C}: TrainErr={train_errors[i]:.3f}, Misclass={train_misclassified[i]}, CVErr={cv_errors[i]:.3f}\")"
      ],
      "metadata": {
        "colab": {
          "base_uri": "https://localhost:8080/"
        },
        "id": "U3YzwCcOhJVH",
        "outputId": "ffcfc1f5-66c9-4a87-b1b6-f669dc4f9707"
      },
      "execution_count": 98,
      "outputs": [
        {
          "output_type": "stream",
          "name": "stdout",
          "text": [
            "Errores de entrenamiento y validación cruzada:\n",
            "C=0.01: TrainErr=0.246, Misclass=69, CVErr=0.261\n",
            "C=0.1: TrainErr=0.236, Misclass=66, CVErr=0.246\n",
            "C=1: TrainErr=0.246, Misclass=69, CVErr=0.239\n",
            "C=10: TrainErr=0.239, Misclass=67, CVErr=0.239\n",
            "C=100: TrainErr=0.239, Misclass=67, CVErr=0.239\n"
          ]
        }
      ]
    },
    {
      "cell_type": "markdown",
      "source": [
        "### Evaluar en el conjunto de prueba"
      ],
      "metadata": {
        "id": "KvdMIauNhR-B"
      }
    },
    {
      "cell_type": "code",
      "source": [
        "test_errors = []\n",
        "\n",
        "for C in C_values:\n",
        "    svm = SVC(kernel=\"linear\", C=C, random_state=42)\n",
        "    svm.fit(X_train, y_train)\n",
        "    y_pred_test = svm.predict(X_test)\n",
        "    test_error = np.mean(y_pred_test != y_test)\n",
        "    test_errors.append(test_error)"
      ],
      "metadata": {
        "id": "gucWTLcahXW5"
      },
      "execution_count": 99,
      "outputs": []
    },
    {
      "cell_type": "code",
      "source": [
        "# C óptimos según cada métrica\n",
        "best_train_C = C_values[np.argmin(train_errors)]\n",
        "best_cv_C = C_values[np.argmin(cv_errors)]\n",
        "best_test_C = C_values[np.argmin(test_errors)]"
      ],
      "metadata": {
        "id": "rPXL3oSLpHuS"
      },
      "execution_count": 100,
      "outputs": []
    },
    {
      "cell_type": "code",
      "source": [
        "print(\"\\nErrores globales por valor de C:\")\n",
        "print(\"C\\tTrainErr\\tCVErr\\tTestErr\\tMisclassificados(Train)\")\n",
        "for i, C in enumerate(C_values):\n",
        "    print(f\"{C:<6}\\t{train_errors[i]:.3f}\\t\\t{cv_errors[i]:.3f}\\t\\t{test_errors[i]:.3f}\\t\\t{train_misclassified[i]}\")\n",
        "\n",
        "print(\"\\n C óptimos según cada conjunto:\")\n",
        "print(f\"- Mejor C (Train Error mínimo): {best_train_C}\")\n",
        "print(f\"- Mejor C (Cross-Validation Error mínimo): {best_cv_C}\")\n",
        "print(f\"- Mejor C (Test Error mínimo): {best_test_C}\")"
      ],
      "metadata": {
        "colab": {
          "base_uri": "https://localhost:8080/"
        },
        "id": "GVNYvuNIpJ-b",
        "outputId": "3021b87f-6be5-4784-87d7-ca8e8269af1f"
      },
      "execution_count": 101,
      "outputs": [
        {
          "output_type": "stream",
          "name": "stdout",
          "text": [
            "\n",
            "Errores globales por valor de C:\n",
            "C\tTrainErr\tCVErr\tTestErr\tMisclassificados(Train)\n",
            "0.01  \t0.246\t\t0.261\t\t0.308\t\t69\n",
            "0.1   \t0.236\t\t0.246\t\t0.317\t\t66\n",
            "1     \t0.246\t\t0.239\t\t0.342\t\t69\n",
            "10    \t0.239\t\t0.239\t\t0.350\t\t67\n",
            "100   \t0.239\t\t0.239\t\t0.350\t\t67\n",
            "\n",
            " C óptimos según cada conjunto:\n",
            "- Mejor C (Train Error mínimo): 0.1\n",
            "- Mejor C (Cross-Validation Error mínimo): 1\n",
            "- Mejor C (Test Error mínimo): 0.01\n"
          ]
        }
      ]
    },
    {
      "cell_type": "markdown",
      "source": [
        "### Visualizar fronteras de decisión"
      ],
      "metadata": {
        "id": "Glhohp0phcJP"
      }
    },
    {
      "cell_type": "code",
      "source": [
        "def plot_decision_boundary(model, X, y, ax, title):\n",
        "    x_min, x_max = X[:,0].min() - 0.5, X[:,0].max() + 0.5\n",
        "    y_min, y_max = X[:,1].min() - 0.5, X[:,1].max() + 0.5\n",
        "    xx, yy = np.meshgrid(np.linspace(x_min, x_max, 300),\n",
        "                         np.linspace(y_min, y_max, 300))\n",
        "    Z = model.predict(np.c_[xx.ravel(), yy.ravel()])\n",
        "    Z = Z.reshape(xx.shape)\n",
        "    ax.contourf(xx, yy, Z, cmap='bwr', alpha=0.2)\n",
        "    ax.scatter(X[:,0], X[:,1], c=y, cmap='bwr', s=20, edgecolor='k')\n",
        "    ax.set_title(title)\n",
        "    ax.set_xticks([]); ax.set_yticks([])\n",
        "\n",
        "fig, axes = plt.subplots(1, 5, figsize=(18, 3))\n",
        "for i, C in enumerate(C_values):\n",
        "    model = SVC(kernel=\"linear\", C=C, random_state=42)\n",
        "    model.fit(X_train, y_train)\n",
        "    plot_decision_boundary(model, X_train, y_train, axes[i], f\"C={C}\")\n",
        "plt.tight_layout()\n",
        "plt.show()"
      ],
      "metadata": {
        "colab": {
          "base_uri": "https://localhost:8080/",
          "height": 129
        },
        "id": "jR_PiFzIhd6i",
        "outputId": "1eacd13f-6bf1-488e-af68-b1d30a16e158"
      },
      "execution_count": 102,
      "outputs": [
        {
          "output_type": "display_data",
          "data": {
            "text/plain": [
              "<Figure size 1800x300 with 5 Axes>"
            ],
            "image/png": "[encoded data removed]"
          },
          "metadata": {}
        }
      ]
    },
    {
      "cell_type": "markdown",
      "source": [
        "### Conclusión"
      ],
      "metadata": {
        "id": "F198mE7-iA2Q"
      }
    },
    {
      "cell_type": "markdown",
      "source": [
        "### Discusión de Resultados\n",
        "\n",
        "- **C pequeño (0.01, 0.1):**  \n",
        "  Margen amplio, alta regularización → muchas observaciones mal clasificadas (underfitting).  \n",
        "\n",
        "- **C intermedio (~1):**  \n",
        "  Mejor equilibrio entre sesgo y varianza.  \n",
        "  Mínimos errores de validación cruzada y prueba → mejor generalización.  \n",
        "\n",
        "- **C grande (10, 100):**  \n",
        "  Clasificación perfecta del entrenamiento (misclassified = 0),  \n",
        "  pero mayor error en validación y test → sobreajuste (*overfitting*).  \n",
        "\n",
        "**Comparación de óptimos:**\n",
        "\n",
        "| Métrica | Mejor C | Interpretación |\n",
        "|----------|----------|----------------|\n",
        "| Entrenamiento | `best_train_C` | Mínimo error, posible sobreajuste |\n",
        "| Validación cruzada | `best_cv_C` | Compromiso bias–varianza |\n",
        "| Prueba | `best_test_C` | Mejor capacidad de generalizar |\n",
        "\n",
        "El valor **C ≈ 1** representa el punto óptimo, donde el SVM logra buena separación sin sobreajustar."
      ],
      "metadata": {
        "id": "bkFIH_CyiEjb"
      }
    },
    {
      "cell_type": "markdown",
      "source": [
        "## Part C: Regression trees on Carseats data."
      ],
      "metadata": {
        "id": "ipc3ixj4QW9j"
      }
    },
    {
      "cell_type": "code",
      "source": [
        "!pip install ISLP\n",
        "!pip install scikit-learn\n",
        "!pip install matplotlib"
      ],
      "metadata": {
        "colab": {
          "base_uri": "https://localhost:8080/"
        },
        "id": "MwsIvl-pQz6y",
        "outputId": "b6681482-4da6-41ca-bea8-7e278d83bf65"
      },
      "execution_count": 103,
      "outputs": [
        {
          "output_type": "stream",
          "name": "stdout",
          "text": [
            "Requirement already satisfied: ISLP in /usr/local/lib/python3.12/dist-packages (0.4.0)\n",
            "Requirement already satisfied: numpy>=1.7.1 in /usr/local/lib/python3.12/dist-packages (from ISLP) (2.0.2)\n",
            "Requirement already satisfied: scipy>=0.9 in /usr/local/lib/python3.12/dist-packages (from ISLP) (1.16.2)\n",
            "Requirement already satisfied: pandas>=0.20 in /usr/local/lib/python3.12/dist-packages (from ISLP) (2.2.2)\n",
            "Requirement already satisfied: lxml in /usr/local/lib/python3.12/dist-packages (from ISLP) (5.4.0)\n",
            "Requirement already satisfied: scikit-learn>=1.2 in /usr/local/lib/python3.12/dist-packages (from ISLP) (1.6.1)\n",
            "Requirement already satisfied: joblib in /usr/local/lib/python3.12/dist-packages (from ISLP) (1.5.2)\n",
            "Requirement already satisfied: statsmodels>=0.13 in /usr/local/lib/python3.12/dist-packages (from ISLP) (0.14.5)\n",
            "Requirement already satisfied: lifelines in /usr/local/lib/python3.12/dist-packages (from ISLP) (0.30.0)\n",
            "Requirement already satisfied: pygam in /usr/local/lib/python3.12/dist-packages (from ISLP) (0.10.1)\n",
            "Requirement already satisfied: torch in /usr/local/lib/python3.12/dist-packages (from ISLP) (2.8.0+cu126)\n",
            "Requirement already satisfied: pytorch-lightning in /usr/local/lib/python3.12/dist-packages (from ISLP) (2.5.5)\n",
            "Requirement already satisfied: torchmetrics in /usr/local/lib/python3.12/dist-packages (from ISLP) (1.8.2)\n",
            "Requirement already satisfied: python-dateutil>=2.8.2 in /usr/local/lib/python3.12/dist-packages (from pandas>=0.20->ISLP) (2.9.0.post0)\n",
            "Requirement already satisfied: pytz>=2020.1 in /usr/local/lib/python3.12/dist-packages (from pandas>=0.20->ISLP) (2025.2)\n",
            "Requirement already satisfied: tzdata>=2022.7 in /usr/local/lib/python3.12/dist-packages (from pandas>=0.20->ISLP) (2025.2)\n",
            "Requirement already satisfied: threadpoolctl>=3.1.0 in /usr/local/lib/python3.12/dist-packages (from scikit-learn>=1.2->ISLP) (3.6.0)\n",
            "Requirement already satisfied: patsy>=0.5.6 in /usr/local/lib/python3.12/dist-packages (from statsmodels>=0.13->ISLP) (1.0.2)\n",
            "Requirement already satisfied: packaging>=21.3 in /usr/local/lib/python3.12/dist-packages (from statsmodels>=0.13->ISLP) (25.0)\n",
            "Requirement already satisfied: matplotlib>=3.0 in /usr/local/lib/python3.12/dist-packages (from lifelines->ISLP) (3.10.0)\n",
            "Requirement already satisfied: autograd>=1.5 in /usr/local/lib/python3.12/dist-packages (from lifelines->ISLP) (1.8.0)\n",
            "Requirement already satisfied: autograd-gamma>=0.3 in /usr/local/lib/python3.12/dist-packages (from lifelines->ISLP) (0.5.0)\n",
            "Requirement already satisfied: formulaic>=0.2.2 in /usr/local/lib/python3.12/dist-packages (from lifelines->ISLP) (1.2.1)\n",
            "Requirement already satisfied: progressbar2<5,>=4.2.0 in /usr/local/lib/python3.12/dist-packages (from pygam->ISLP) (4.5.0)\n",
            "Requirement already satisfied: tqdm>=4.57.0 in /usr/local/lib/python3.12/dist-packages (from pytorch-lightning->ISLP) (4.67.1)\n",
            "Requirement already satisfied: PyYAML>5.4 in /usr/local/lib/python3.12/dist-packages (from pytorch-lightning->ISLP) (6.0.3)\n",
            "Requirement already satisfied: fsspec>=2022.5.0 in /usr/local/lib/python3.12/dist-packages (from fsspec[http]>=2022.5.0->pytorch-lightning->ISLP) (2025.3.0)\n",
            "Requirement already satisfied: typing-extensions>4.5.0 in /usr/local/lib/python3.12/dist-packages (from pytorch-lightning->ISLP) (4.15.0)\n",
            "Requirement already satisfied: lightning-utilities>=0.10.0 in /usr/local/lib/python3.12/dist-packages (from pytorch-lightning->ISLP) (0.15.2)\n",
            "Requirement already satisfied: filelock in /usr/local/lib/python3.12/dist-packages (from torch->ISLP) (3.20.0)\n",
            "Requirement already satisfied: setuptools in /usr/local/lib/python3.12/dist-packages (from torch->ISLP) (75.2.0)\n",
            "Requirement already satisfied: sympy>=1.13.3 in /usr/local/lib/python3.12/dist-packages (from torch->ISLP) (1.13.3)\n",
            "Requirement already satisfied: networkx in /usr/local/lib/python3.12/dist-packages (from torch->ISLP) (3.5)\n",
            "Requirement already satisfied: jinja2 in /usr/local/lib/python3.12/dist-packages (from torch->ISLP) (3.1.6)\n",
            "Requirement already satisfied: nvidia-cuda-nvrtc-cu12==12.6.77 in /usr/local/lib/python3.12/dist-packages (from torch->ISLP) (12.6.77)\n",
            "Requirement already satisfied: nvidia-cuda-runtime-cu12==12.6.77 in /usr/local/lib/python3.12/dist-packages (from torch->ISLP) (12.6.77)\n",
            "Requirement already satisfied: nvidia-cuda-cupti-cu12==12.6.80 in /usr/local/lib/python3.12/dist-packages (from torch->ISLP) (12.6.80)\n",
            "Requirement already satisfied: nvidia-cudnn-cu12==9.10.2.21 in /usr/local/lib/python3.12/dist-packages (from torch->ISLP) (9.10.2.21)\n",
            "Requirement already satisfied: nvidia-cublas-cu12==12.6.4.1 in /usr/local/lib/python3.12/dist-packages (from torch->ISLP) (12.6.4.1)\n",
            "Requirement already satisfied: nvidia-cufft-cu12==11.3.0.4 in /usr/local/lib/python3.12/dist-packages (from torch->ISLP) (11.3.0.4)\n",
            "Requirement already satisfied: nvidia-curand-cu12==10.3.7.77 in /usr/local/lib/python3.12/dist-packages (from torch->ISLP) (10.3.7.77)\n",
            "Requirement already satisfied: nvidia-cusolver-cu12==11.7.1.2 in /usr/local/lib/python3.12/dist-packages (from torch->ISLP) (11.7.1.2)\n",
            "Requirement already satisfied: nvidia-cusparse-cu12==12.5.4.2 in /usr/local/lib/python3.12/dist-packages (from torch->ISLP) (12.5.4.2)\n",
            "Requirement already satisfied: nvidia-cusparselt-cu12==0.7.1 in /usr/local/lib/python3.12/dist-packages (from torch->ISLP) (0.7.1)\n",
            "Requirement already satisfied: nvidia-nccl-cu12==2.27.3 in /usr/local/lib/python3.12/dist-packages (from torch->ISLP) (2.27.3)\n",
            "Requirement already satisfied: nvidia-nvtx-cu12==12.6.77 in /usr/local/lib/python3.12/dist-packages (from torch->ISLP) (12.6.77)\n",
            "Requirement already satisfied: nvidia-nvjitlink-cu12==12.6.85 in /usr/local/lib/python3.12/dist-packages (from torch->ISLP) (12.6.85)\n",
            "Requirement already satisfied: nvidia-cufile-cu12==1.11.1.6 in /usr/local/lib/python3.12/dist-packages (from torch->ISLP) (1.11.1.6)\n",
            "Requirement already satisfied: triton==3.4.0 in /usr/local/lib/python3.12/dist-packages (from torch->ISLP) (3.4.0)\n",
            "Requirement already satisfied: interface-meta>=1.2.0 in /usr/local/lib/python3.12/dist-packages (from formulaic>=0.2.2->lifelines->ISLP) (1.3.0)\n",
            "Requirement already satisfied: narwhals>=1.17 in /usr/local/lib/python3.12/dist-packages (from formulaic>=0.2.2->lifelines->ISLP) (2.9.0)\n",
            "Requirement already satisfied: wrapt>=1.0 in /usr/local/lib/python3.12/dist-packages (from formulaic>=0.2.2->lifelines->ISLP) (2.0.0)\n",
            "Requirement already satisfied: aiohttp!=4.0.0a0,!=4.0.0a1 in /usr/local/lib/python3.12/dist-packages (from fsspec[http]>=2022.5.0->pytorch-lightning->ISLP) (3.13.1)\n",
            "Requirement already satisfied: contourpy>=1.0.1 in /usr/local/lib/python3.12/dist-packages (from matplotlib>=3.0->lifelines->ISLP) (1.3.3)\n",
            "Requirement already satisfied: cycler>=0.10 in /usr/local/lib/python3.12/dist-packages (from matplotlib>=3.0->lifelines->ISLP) (0.12.1)\n",
            "Requirement already satisfied: fonttools>=4.22.0 in /usr/local/lib/python3.12/dist-packages (from matplotlib>=3.0->lifelines->ISLP) (4.60.1)\n",
            "Requirement already satisfied: kiwisolver>=1.3.1 in /usr/local/lib/python3.12/dist-packages (from matplotlib>=3.0->lifelines->ISLP) (1.4.9)\n",
            "Requirement already satisfied: pillow>=8 in /usr/local/lib/python3.12/dist-packages (from matplotlib>=3.0->lifelines->ISLP) (11.3.0)\n",
            "Requirement already satisfied: pyparsing>=2.3.1 in /usr/local/lib/python3.12/dist-packages (from matplotlib>=3.0->lifelines->ISLP) (3.2.5)\n",
            "Requirement already satisfied: python-utils>=3.8.1 in /usr/local/lib/python3.12/dist-packages (from progressbar2<5,>=4.2.0->pygam->ISLP) (3.9.1)\n",
            "Requirement already satisfied: six>=1.5 in /usr/local/lib/python3.12/dist-packages (from python-dateutil>=2.8.2->pandas>=0.20->ISLP) (1.17.0)\n",
            "Requirement already satisfied: mpmath<1.4,>=1.1.0 in /usr/local/lib/python3.12/dist-packages (from sympy>=1.13.3->torch->ISLP) (1.3.0)\n",
            "Requirement already satisfied: MarkupSafe>=2.0 in /usr/local/lib/python3.12/dist-packages (from jinja2->torch->ISLP) (3.0.3)\n",
            "Requirement already satisfied: aiohappyeyeballs>=2.5.0 in /usr/local/lib/python3.12/dist-packages (from aiohttp!=4.0.0a0,!=4.0.0a1->fsspec[http]>=2022.5.0->pytorch-lightning->ISLP) (2.6.1)\n",
            "Requirement already satisfied: aiosignal>=1.4.0 in /usr/local/lib/python3.12/dist-packages (from aiohttp!=4.0.0a0,!=4.0.0a1->fsspec[http]>=2022.5.0->pytorch-lightning->ISLP) (1.4.0)\n",
            "Requirement already satisfied: attrs>=17.3.0 in /usr/local/lib/python3.12/dist-packages (from aiohttp!=4.0.0a0,!=4.0.0a1->fsspec[http]>=2022.5.0->pytorch-lightning->ISLP) (25.4.0)\n",
            "Requirement already satisfied: frozenlist>=1.1.1 in /usr/local/lib/python3.12/dist-packages (from aiohttp!=4.0.0a0,!=4.0.0a1->fsspec[http]>=2022.5.0->pytorch-lightning->ISLP) (1.8.0)\n",
            "Requirement already satisfied: multidict<7.0,>=4.5 in /usr/local/lib/python3.12/dist-packages (from aiohttp!=4.0.0a0,!=4.0.0a1->fsspec[http]>=2022.5.0->pytorch-lightning->ISLP) (6.7.0)\n",
            "Requirement already satisfied: propcache>=0.2.0 in /usr/local/lib/python3.12/dist-packages (from aiohttp!=4.0.0a0,!=4.0.0a1->fsspec[http]>=2022.5.0->pytorch-lightning->ISLP) (0.4.1)\n",
            "Requirement already satisfied: yarl<2.0,>=1.17.0 in /usr/local/lib/python3.12/dist-packages (from aiohttp!=4.0.0a0,!=4.0.0a1->fsspec[http]>=2022.5.0->pytorch-lightning->ISLP) (1.22.0)\n",
            "Requirement already satisfied: idna>=2.0 in /usr/local/lib/python3.12/dist-packages (from yarl<2.0,>=1.17.0->aiohttp!=4.0.0a0,!=4.0.0a1->fsspec[http]>=2022.5.0->pytorch-lightning->ISLP) (3.11)\n",
            "Requirement already satisfied: scikit-learn in /usr/local/lib/python3.12/dist-packages (1.6.1)\n",
            "Requirement already satisfied: numpy>=1.19.5 in /usr/local/lib/python3.12/dist-packages (from scikit-learn) (2.0.2)\n",
            "Requirement already satisfied: scipy>=1.6.0 in /usr/local/lib/python3.12/dist-packages (from scikit-learn) (1.16.2)\n",
            "Requirement already satisfied: joblib>=1.2.0 in /usr/local/lib/python3.12/dist-packages (from scikit-learn) (1.5.2)\n",
            "Requirement already satisfied: threadpoolctl>=3.1.0 in /usr/local/lib/python3.12/dist-packages (from scikit-learn) (3.6.0)\n",
            "Requirement already satisfied: matplotlib in /usr/local/lib/python3.12/dist-packages (3.10.0)\n",
            "Requirement already satisfied: contourpy>=1.0.1 in /usr/local/lib/python3.12/dist-packages (from matplotlib) (1.3.3)\n",
            "Requirement already satisfied: cycler>=0.10 in /usr/local/lib/python3.12/dist-packages (from matplotlib) (0.12.1)\n",
            "Requirement already satisfied: fonttools>=4.22.0 in /usr/local/lib/python3.12/dist-packages (from matplotlib) (4.60.1)\n",
            "Requirement already satisfied: kiwisolver>=1.3.1 in /usr/local/lib/python3.12/dist-packages (from matplotlib) (1.4.9)\n",
            "Requirement already satisfied: numpy>=1.23 in /usr/local/lib/python3.12/dist-packages (from matplotlib) (2.0.2)\n",
            "Requirement already satisfied: packaging>=20.0 in /usr/local/lib/python3.12/dist-packages (from matplotlib) (25.0)\n",
            "Requirement already satisfied: pillow>=8 in /usr/local/lib/python3.12/dist-packages (from matplotlib) (11.3.0)\n",
            "Requirement already satisfied: pyparsing>=2.3.1 in /usr/local/lib/python3.12/dist-packages (from matplotlib) (3.2.5)\n",
            "Requirement already satisfied: python-dateutil>=2.7 in /usr/local/lib/python3.12/dist-packages (from matplotlib) (2.9.0.post0)\n",
            "Requirement already satisfied: six>=1.5 in /usr/local/lib/python3.12/dist-packages (from python-dateutil>=2.7->matplotlib) (1.17.0)\n"
          ]
        }
      ]
    },
    {
      "cell_type": "code",
      "source": [
        "import pandas as pd\n",
        "import numpy as np\n",
        "from ISLP import load_data\n",
        "from sklearn.model_selection import train_test_split"
      ],
      "metadata": {
        "id": "GmmegUykQ2Em"
      },
      "execution_count": 104,
      "outputs": []
    },
    {
      "cell_type": "code",
      "source": [
        "# Cargamos nuestra base de datos\n",
        "carseat = load_data(\"Carseats\")"
      ],
      "metadata": {
        "id": "xC2z_h2hQ-yM"
      },
      "execution_count": 105,
      "outputs": []
    },
    {
      "cell_type": "code",
      "source": [
        "# Observamos nuestra base de datos\n",
        "carseat.head()"
      ],
      "metadata": {
        "colab": {
          "base_uri": "https://localhost:8080/",
          "height": 226
        },
        "id": "2h8Y8A3yRE8E",
        "outputId": "56be3c59-9d35-4d05-8955-b65209a89a13"
      },
      "execution_count": 106,
      "outputs": [
        {
          "output_type": "execute_result",
          "data": {
            "text/plain": [
              "   Sales  CompPrice  Income  Advertising  Population  Price ShelveLoc  Age  \\\n",
              "0   9.50        138      73           11         276    120       Bad   42   \n",
              "1  11.22        111      48           16         260     83      Good   65   \n",
              "2  10.06        113      35           10         269     80    Medium   59   \n",
              "3   7.40        117     100            4         466     97    Medium   55   \n",
              "4   4.15        141      64            3         340    128       Bad   38   \n",
              "\n",
              "   Education Urban   US  \n",
              "0         17   Yes  Yes  \n",
              "1         10   Yes  Yes  \n",
              "2         12   Yes  Yes  \n",
              "3         14   Yes  Yes  \n",
              "4         13   Yes   No  "
            ],
            "text/html": [
              "\n",
              "  <div id=\"df-03c4308c-6ec0-437b-8ae7-0e4bc781f295\" class=\"colab-df-container\">\n",
              "    <div>\n",
              "<style scoped>\n",
              "    .dataframe tbody tr th:only-of-type {\n",
              "        vertical-align: middle;\n",
              "    }\n",
              "\n",
              "    .dataframe tbody tr th {\n",
              "        vertical-align: top;\n",
              "    }\n",
              "\n",
              "    .dataframe thead th {\n",
              "        text-align: right;\n",
              "    }\n",
              "</style>\n",
              "<table border=\"1\" class=\"dataframe\">\n",
              "  <thead>\n",
              "    <tr style=\"text-align: right;\">\n",
              "      <th></th>\n",
              "      <th>Sales</th>\n",
              "      <th>CompPrice</th>\n",
              "      <th>Income</th>\n",
              "      <th>Advertising</th>\n",
              "      <th>Population</th>\n",
              "      <th>Price</th>\n",
              "      <th>ShelveLoc</th>\n",
              "      <th>Age</th>\n",
              "      <th>Education</th>\n",
              "      <th>Urban</th>\n",
              "      <th>US</th>\n",
              "    </tr>\n",
              "  </thead>\n",
              "  <tbody>\n",
              "    <tr>\n",
              "      <th>0</th>\n",
              "      <td>9.50</td>\n",
              "      <td>138</td>\n",
              "      <td>73</td>\n",
              "      <td>11</td>\n",
              "      <td>276</td>\n",
              "      <td>120</td>\n",
              "      <td>Bad</td>\n",
              "      <td>42</td>\n",
              "      <td>17</td>\n",
              "      <td>Yes</td>\n",
              "      <td>Yes</td>\n",
              "    </tr>\n",
              "    <tr>\n",
              "      <th>1</th>\n",
              "      <td>11.22</td>\n",
              "      <td>111</td>\n",
              "      <td>48</td>\n",
              "      <td>16</td>\n",
              "      <td>260</td>\n",
              "      <td>83</td>\n",
              "      <td>Good</td>\n",
              "      <td>65</td>\n",
              "      <td>10</td>\n",
              "      <td>Yes</td>\n",
              "      <td>Yes</td>\n",
              "    </tr>\n",
              "    <tr>\n",
              "      <th>2</th>\n",
              "      <td>10.06</td>\n",
              "      <td>113</td>\n",
              "      <td>35</td>\n",
              "      <td>10</td>\n",
              "      <td>269</td>\n",
              "      <td>80</td>\n",
              "      <td>Medium</td>\n",
              "      <td>59</td>\n",
              "      <td>12</td>\n",
              "      <td>Yes</td>\n",
              "      <td>Yes</td>\n",
              "    </tr>\n",
              "    <tr>\n",
              "      <th>3</th>\n",
              "      <td>7.40</td>\n",
              "      <td>117</td>\n",
              "      <td>100</td>\n",
              "      <td>4</td>\n",
              "      <td>466</td>\n",
              "      <td>97</td>\n",
              "      <td>Medium</td>\n",
              "      <td>55</td>\n",
              "      <td>14</td>\n",
              "      <td>Yes</td>\n",
              "      <td>Yes</td>\n",
              "    </tr>\n",
              "    <tr>\n",
              "      <th>4</th>\n",
              "      <td>4.15</td>\n",
              "      <td>141</td>\n",
              "      <td>64</td>\n",
              "      <td>3</td>\n",
              "      <td>340</td>\n",
              "      <td>128</td>\n",
              "      <td>Bad</td>\n",
              "      <td>38</td>\n",
              "      <td>13</td>\n",
              "      <td>Yes</td>\n",
              "      <td>No</td>\n",
              "    </tr>\n",
              "  </tbody>\n",
              "</table>\n",
              "</div>\n",
              "    <div class=\"colab-df-buttons\">\n",
              "\n",
              "  <div class=\"colab-df-container\">\n",
              "    <button class=\"colab-df-convert\" onclick=\"convertToInteractive('df-03c4308c-6ec0-437b-8ae7-0e4bc781f295')\"\n",
              "            title=\"Convert this dataframe to an interactive table.\"\n",
              "            style=\"display:none;\">\n",
              "\n",
              "  <svg xmlns=\"http://www.w3.org/2000/svg\" height=\"24px\" viewBox=\"0 -960 960 960\">\n",
              "    <path d=\"M120-120v-720h720v720H120Zm60-500h600v-160H180v160Zm220 220h160v-160H400v160Zm0 220h160v-160H400v160ZM180-400h160v-160H180v160Zm440 0h160v-160H620v160ZM180-180h160v-160H180v160Zm440 0h160v-160H620v160Z\"/>\n",
              "  </svg>\n",
              "    </button>\n",
              "\n",
              "  <style>\n",
              "    .colab-df-container {\n",
              "      display:flex;\n",
              "      gap: 12px;\n",
              "    }\n",
              "\n",
              "    .colab-df-convert {\n",
              "      background-color: #E8F0FE;\n",
              "      border: none;\n",
              "      border-radius: 50%;\n",
              "      cursor: pointer;\n",
              "      display: none;\n",
              "      fill: #1967D2;\n",
              "      height: 32px;\n",
              "      padding: 0 0 0 0;\n",
              "      width: 32px;\n",
              "    }\n",
              "\n",
              "    .colab-df-convert:hover {\n",
              "      background-color: #E2EBFA;\n",
              "      box-shadow: 0px 1px 2px rgba(60, 64, 67, 0.3), 0px 1px 3px 1px rgba(60, 64, 67, 0.15);\n",
              "      fill: #174EA6;\n",
              "    }\n",
              "\n",
              "    .colab-df-buttons div {\n",
              "      margin-bottom: 4px;\n",
              "    }\n",
              "\n",
              "    [theme=dark] .colab-df-convert {\n",
              "      background-color: #3B4455;\n",
              "      fill: #D2E3FC;\n",
              "    }\n",
              "\n",
              "    [theme=dark] .colab-df-convert:hover {\n",
              "      background-color: #434B5C;\n",
              "      box-shadow: 0px 1px 3px 1px rgba(0, 0, 0, 0.15);\n",
              "      filter: drop-shadow(0px 1px 2px rgba(0, 0, 0, 0.3));\n",
              "      fill: #FFFFFF;\n",
              "    }\n",
              "  </style>\n",
              "\n",
              "    <script>\n",
              "      const buttonEl =\n",
              "        document.querySelector('#df-03c4308c-6ec0-437b-8ae7-0e4bc781f295 button.colab-df-convert');\n",
              "      buttonEl.style.display =\n",
              "        google.colab.kernel.accessAllowed ? 'block' : 'none';\n",
              "\n",
              "      async function convertToInteractive(key) {\n",
              "        const element = document.querySelector('#df-03c4308c-6ec0-437b-8ae7-0e4bc781f295');\n",
              "        const dataTable =\n",
              "          await google.colab.kernel.invokeFunction('convertToInteractive',\n",
              "                                                    [key], {});\n",
              "        if (!dataTable) return;\n",
              "\n",
              "        const docLinkHtml = 'Like what you see? Visit the ' +\n",
              "          '<a target=\"_blank\" href=https://colab.research.google.com/notebooks/data_table.ipynb>data table notebook</a>'\n",
              "          + ' to learn more about interactive tables.';\n",
              "        element.innerHTML = '';\n",
              "        dataTable['output_type'] = 'display_data';\n",
              "        await google.colab.output.renderOutput(dataTable, element);\n",
              "        const docLink = document.createElement('div');\n",
              "        docLink.innerHTML = docLinkHtml;\n",
              "        element.appendChild(docLink);\n",
              "      }\n",
              "    </script>\n",
              "  </div>\n",
              "\n",
              "\n",
              "    <div id=\"df-01220005-7058-44a6-95f8-a4a659f28107\">\n",
              "      <button class=\"colab-df-quickchart\" onclick=\"quickchart('df-01220005-7058-44a6-95f8-a4a659f28107')\"\n",
              "                title=\"Suggest charts\"\n",
              "                style=\"display:none;\">\n",
              "\n",
              "<svg xmlns=\"http://www.w3.org/2000/svg\" height=\"24px\"viewBox=\"0 0 24 24\"\n",
              "     width=\"24px\">\n",
              "    <g>\n",
              "        <path d=\"M19 3H5c-1.1 0-2 .9-2 2v14c0 1.1.9 2 2 2h14c1.1 0 2-.9 2-2V5c0-1.1-.9-2-2-2zM9 17H7v-7h2v7zm4 0h-2V7h2v10zm4 0h-2v-4h2v4z\"/>\n",
              "    </g>\n",
              "</svg>\n",
              "      </button>\n",
              "\n",
              "<style>\n",
              "  .colab-df-quickchart {\n",
              "      --bg-color: #E8F0FE;\n",
              "      --fill-color: #1967D2;\n",
              "      --hover-bg-color: #E2EBFA;\n",
              "      --hover-fill-color: #174EA6;\n",
              "      --disabled-fill-color: #AAA;\n",
              "      --disabled-bg-color: #DDD;\n",
              "  }\n",
              "\n",
              "  [theme=dark] .colab-df-quickchart {\n",
              "      --bg-color: #3B4455;\n",
              "      --fill-color: #D2E3FC;\n",
              "      --hover-bg-color: #434B5C;\n",
              "      --hover-fill-color: #FFFFFF;\n",
              "      --disabled-bg-color: #3B4455;\n",
              "      --disabled-fill-color: #666;\n",
              "  }\n",
              "\n",
              "  .colab-df-quickchart {\n",
              "    background-color: var(--bg-color);\n",
              "    border: none;\n",
              "    border-radius: 50%;\n",
              "    cursor: pointer;\n",
              "    display: none;\n",
              "    fill: var(--fill-color);\n",
              "    height: 32px;\n",
              "    padding: 0;\n",
              "    width: 32px;\n",
              "  }\n",
              "\n",
              "  .colab-df-quickchart:hover {\n",
              "    background-color: var(--hover-bg-color);\n",
              "    box-shadow: 0 1px 2px rgba(60, 64, 67, 0.3), 0 1px 3px 1px rgba(60, 64, 67, 0.15);\n",
              "    fill: var(--button-hover-fill-color);\n",
              "  }\n",
              "\n",
              "  .colab-df-quickchart-complete:disabled,\n",
              "  .colab-df-quickchart-complete:disabled:hover {\n",
              "    background-color: var(--disabled-bg-color);\n",
              "    fill: var(--disabled-fill-color);\n",
              "    box-shadow: none;\n",
              "  }\n",
              "\n",
              "  .colab-df-spinner {\n",
              "    border: 2px solid var(--fill-color);\n",
              "    border-color: transparent;\n",
              "    border-bottom-color: var(--fill-color);\n",
              "    animation:\n",
              "      spin 1s steps(1) infinite;\n",
              "  }\n",
              "\n",
              "  @keyframes spin {\n",
              "    0% {\n",
              "      border-color: transparent;\n",
              "      border-bottom-color: var(--fill-color);\n",
              "      border-left-color: var(--fill-color);\n",
              "    }\n",
              "    20% {\n",
              "      border-color: transparent;\n",
              "      border-left-color: var(--fill-color);\n",
              "      border-top-color: var(--fill-color);\n",
              "    }\n",
              "    30% {\n",
              "      border-color: transparent;\n",
              "      border-left-color: var(--fill-color);\n",
              "      border-top-color: var(--fill-color);\n",
              "      border-right-color: var(--fill-color);\n",
              "    }\n",
              "    40% {\n",
              "      border-color: transparent;\n",
              "      border-right-color: var(--fill-color);\n",
              "      border-top-color: var(--fill-color);\n",
              "    }\n",
              "    60% {\n",
              "      border-color: transparent;\n",
              "      border-right-color: var(--fill-color);\n",
              "    }\n",
              "    80% {\n",
              "      border-color: transparent;\n",
              "      border-right-color: var(--fill-color);\n",
              "      border-bottom-color: var(--fill-color);\n",
              "    }\n",
              "    90% {\n",
              "      border-color: transparent;\n",
              "      border-bottom-color: var(--fill-color);\n",
              "    }\n",
              "  }\n",
              "</style>\n",
              "\n",
              "      <script>\n",
              "        async function quickchart(key) {\n",
              "          const quickchartButtonEl =\n",
              "            document.querySelector('#' + key + ' button');\n",
              "          quickchartButtonEl.disabled = true;  // To prevent multiple clicks.\n",
              "          quickchartButtonEl.classList.add('colab-df-spinner');\n",
              "          try {\n",
              "            const charts = await google.colab.kernel.invokeFunction(\n",
              "                'suggestCharts', [key], {});\n",
              "          } catch (error) {\n",
              "            console.error('Error during call to suggestCharts:', error);\n",
              "          }\n",
              "          quickchartButtonEl.classList.remove('colab-df-spinner');\n",
              "          quickchartButtonEl.classList.add('colab-df-quickchart-complete');\n",
              "        }\n",
              "        (() => {\n",
              "          let quickchartButtonEl =\n",
              "            document.querySelector('#df-01220005-7058-44a6-95f8-a4a659f28107 button');\n",
              "          quickchartButtonEl.style.display =\n",
              "            google.colab.kernel.accessAllowed ? 'block' : 'none';\n",
              "        })();\n",
              "      </script>\n",
              "    </div>\n",
              "\n",
              "    </div>\n",
              "  </div>\n"
            ],
            "application/vnd.google.colaboratory.intrinsic+json": {
              "type": "dataframe",
              "variable_name": "carseat",
              "summary": "{\n  \"name\": \"carseat\",\n  \"rows\": 400,\n  \"fields\": [\n    {\n      \"column\": \"Sales\",\n      \"properties\": {\n        \"dtype\": \"number\",\n        \"std\": 2.8241150488068367,\n        \"min\": 0.0,\n        \"max\": 16.27,\n        \"num_unique_values\": 336,\n        \"samples\": [\n          8.55,\n          7.57,\n          5.99\n        ],\n        \"semantic_type\": \"\",\n        \"description\": \"\"\n      }\n    },\n    {\n      \"column\": \"CompPrice\",\n      \"properties\": {\n        \"dtype\": \"number\",\n        \"std\": 15,\n        \"min\": 77,\n        \"max\": 175,\n        \"num_unique_values\": 73,\n        \"samples\": [\n          141,\n          120,\n          134\n        ],\n        \"semantic_type\": \"\",\n        \"description\": \"\"\n      }\n    },\n    {\n      \"column\": \"Income\",\n      \"properties\": {\n        \"dtype\": \"number\",\n        \"std\": 27,\n        \"min\": 21,\n        \"max\": 120,\n        \"num_unique_values\": 98,\n        \"samples\": [\n          30,\n          103,\n          55\n        ],\n        \"semantic_type\": \"\",\n        \"description\": \"\"\n      }\n    },\n    {\n      \"column\": \"Advertising\",\n      \"properties\": {\n        \"dtype\": \"number\",\n        \"std\": 6,\n        \"min\": 0,\n        \"max\": 29,\n        \"num_unique_values\": 28,\n        \"samples\": [\n          2,\n          29,\n          9\n        ],\n        \"semantic_type\": \"\",\n        \"description\": \"\"\n      }\n    },\n    {\n      \"column\": \"Population\",\n      \"properties\": {\n        \"dtype\": \"number\",\n        \"std\": 147,\n        \"min\": 10,\n        \"max\": 509,\n        \"num_unique_values\": 275,\n        \"samples\": [\n          447,\n          492,\n          467\n        ],\n        \"semantic_type\": \"\",\n        \"description\": \"\"\n      }\n    },\n    {\n      \"column\": \"Price\",\n      \"properties\": {\n        \"dtype\": \"number\",\n        \"std\": 23,\n        \"min\": 24,\n        \"max\": 191,\n        \"num_unique_values\": 101,\n        \"samples\": [\n          64,\n          139,\n          49\n        ],\n        \"semantic_type\": \"\",\n        \"description\": \"\"\n      }\n    },\n    {\n      \"column\": \"ShelveLoc\",\n      \"properties\": {\n        \"dtype\": \"category\",\n        \"num_unique_values\": 3,\n        \"samples\": [\n          \"Bad\",\n          \"Good\",\n          \"Medium\"\n        ],\n        \"semantic_type\": \"\",\n        \"description\": \"\"\n      }\n    },\n    {\n      \"column\": \"Age\",\n      \"properties\": {\n        \"dtype\": \"number\",\n        \"std\": 16,\n        \"min\": 25,\n        \"max\": 80,\n        \"num_unique_values\": 56,\n        \"samples\": [\n          42,\n          78,\n          29\n        ],\n        \"semantic_type\": \"\",\n        \"description\": \"\"\n      }\n    },\n    {\n      \"column\": \"Education\",\n      \"properties\": {\n        \"dtype\": \"number\",\n        \"std\": 2,\n        \"min\": 10,\n        \"max\": 18,\n        \"num_unique_values\": 9,\n        \"samples\": [\n          18,\n          10,\n          16\n        ],\n        \"semantic_type\": \"\",\n        \"description\": \"\"\n      }\n    },\n    {\n      \"column\": \"Urban\",\n      \"properties\": {\n        \"dtype\": \"category\",\n        \"num_unique_values\": 2,\n        \"samples\": [\n          \"No\",\n          \"Yes\"\n        ],\n        \"semantic_type\": \"\",\n        \"description\": \"\"\n      }\n    },\n    {\n      \"column\": \"US\",\n      \"properties\": {\n        \"dtype\": \"category\",\n        \"num_unique_values\": 2,\n        \"samples\": [\n          \"No\",\n          \"Yes\"\n        ],\n        \"semantic_type\": \"\",\n        \"description\": \"\"\n      }\n    }\n  ]\n}"
            }
          },
          "metadata": {},
          "execution_count": 106
        }
      ]
    },
    {
      "cell_type": "code",
      "source": [
        "carseat.describe()"
      ],
      "metadata": {
        "colab": {
          "base_uri": "https://localhost:8080/",
          "height": 320
        },
        "id": "sCYu7VhhRKkH",
        "outputId": "81221ed4-a1d1-46df-e8d6-00e65cdb8d1e"
      },
      "execution_count": 107,
      "outputs": [
        {
          "output_type": "execute_result",
          "data": {
            "text/plain": [
              "            Sales   CompPrice      Income  Advertising  Population  \\\n",
              "count  400.000000  400.000000  400.000000   400.000000  400.000000   \n",
              "mean     7.496325  124.975000   68.657500     6.635000  264.840000   \n",
              "std      2.824115   15.334512   27.986037     6.650364  147.376436   \n",
              "min      0.000000   77.000000   21.000000     0.000000   10.000000   \n",
              "25%      5.390000  115.000000   42.750000     0.000000  139.000000   \n",
              "50%      7.490000  125.000000   69.000000     5.000000  272.000000   \n",
              "75%      9.320000  135.000000   91.000000    12.000000  398.500000   \n",
              "max     16.270000  175.000000  120.000000    29.000000  509.000000   \n",
              "\n",
              "            Price         Age   Education  \n",
              "count  400.000000  400.000000  400.000000  \n",
              "mean   115.795000   53.322500   13.900000  \n",
              "std     23.676664   16.200297    2.620528  \n",
              "min     24.000000   25.000000   10.000000  \n",
              "25%    100.000000   39.750000   12.000000  \n",
              "50%    117.000000   54.500000   14.000000  \n",
              "75%    131.000000   66.000000   16.000000  \n",
              "max    191.000000   80.000000   18.000000  "
            ],
            "text/html": [
              "\n",
              "  <div id=\"df-2215e057-9bbf-4b6b-8793-12957b7db89f\" class=\"colab-df-container\">\n",
              "    <div>\n",
              "<style scoped>\n",
              "    .dataframe tbody tr th:only-of-type {\n",
              "        vertical-align: middle;\n",
              "    }\n",
              "\n",
              "    .dataframe tbody tr th {\n",
              "        vertical-align: top;\n",
              "    }\n",
              "\n",
              "    .dataframe thead th {\n",
              "        text-align: right;\n",
              "    }\n",
              "</style>\n",
              "<table border=\"1\" class=\"dataframe\">\n",
              "  <thead>\n",
              "    <tr style=\"text-align: right;\">\n",
              "      <th></th>\n",
              "      <th>Sales</th>\n",
              "      <th>CompPrice</th>\n",
              "      <th>Income</th>\n",
              "      <th>Advertising</th>\n",
              "      <th>Population</th>\n",
              "      <th>Price</th>\n",
              "      <th>Age</th>\n",
              "      <th>Education</th>\n",
              "    </tr>\n",
              "  </thead>\n",
              "  <tbody>\n",
              "    <tr>\n",
              "      <th>count</th>\n",
              "      <td>400.000000</td>\n",
              "      <td>400.000000</td>\n",
              "      <td>400.000000</td>\n",
              "      <td>400.000000</td>\n",
              "      <td>400.000000</td>\n",
              "      <td>400.000000</td>\n",
              "      <td>400.000000</td>\n",
              "      <td>400.000000</td>\n",
              "    </tr>\n",
              "    <tr>\n",
              "      <th>mean</th>\n",
              "      <td>7.496325</td>\n",
              "      <td>124.975000</td>\n",
              "      <td>68.657500</td>\n",
              "      <td>6.635000</td>\n",
              "      <td>264.840000</td>\n",
              "      <td>115.795000</td>\n",
              "      <td>53.322500</td>\n",
              "      <td>13.900000</td>\n",
              "    </tr>\n",
              "    <tr>\n",
              "      <th>std</th>\n",
              "      <td>2.824115</td>\n",
              "      <td>15.334512</td>\n",
              "      <td>27.986037</td>\n",
              "      <td>6.650364</td>\n",
              "      <td>147.376436</td>\n",
              "      <td>23.676664</td>\n",
              "      <td>16.200297</td>\n",
              "      <td>2.620528</td>\n",
              "    </tr>\n",
              "    <tr>\n",
              "      <th>min</th>\n",
              "      <td>0.000000</td>\n",
              "      <td>77.000000</td>\n",
              "      <td>21.000000</td>\n",
              "      <td>0.000000</td>\n",
              "      <td>10.000000</td>\n",
              "      <td>24.000000</td>\n",
              "      <td>25.000000</td>\n",
              "      <td>10.000000</td>\n",
              "    </tr>\n",
              "    <tr>\n",
              "      <th>25%</th>\n",
              "      <td>5.390000</td>\n",
              "      <td>115.000000</td>\n",
              "      <td>42.750000</td>\n",
              "      <td>0.000000</td>\n",
              "      <td>139.000000</td>\n",
              "      <td>100.000000</td>\n",
              "      <td>39.750000</td>\n",
              "      <td>12.000000</td>\n",
              "    </tr>\n",
              "    <tr>\n",
              "      <th>50%</th>\n",
              "      <td>7.490000</td>\n",
              "      <td>125.000000</td>\n",
              "      <td>69.000000</td>\n",
              "      <td>5.000000</td>\n",
              "      <td>272.000000</td>\n",
              "      <td>117.000000</td>\n",
              "      <td>54.500000</td>\n",
              "      <td>14.000000</td>\n",
              "    </tr>\n",
              "    <tr>\n",
              "      <th>75%</th>\n",
              "      <td>9.320000</td>\n",
              "      <td>135.000000</td>\n",
              "      <td>91.000000</td>\n",
              "      <td>12.000000</td>\n",
              "      <td>398.500000</td>\n",
              "      <td>131.000000</td>\n",
              "      <td>66.000000</td>\n",
              "      <td>16.000000</td>\n",
              "    </tr>\n",
              "    <tr>\n",
              "      <th>max</th>\n",
              "      <td>16.270000</td>\n",
              "      <td>175.000000</td>\n",
              "      <td>120.000000</td>\n",
              "      <td>29.000000</td>\n",
              "      <td>509.000000</td>\n",
              "      <td>191.000000</td>\n",
              "      <td>80.000000</td>\n",
              "      <td>18.000000</td>\n",
              "    </tr>\n",
              "  </tbody>\n",
              "</table>\n",
              "</div>\n",
              "    <div class=\"colab-df-buttons\">\n",
              "\n",
              "  <div class=\"colab-df-container\">\n",
              "    <button class=\"colab-df-convert\" onclick=\"convertToInteractive('df-2215e057-9bbf-4b6b-8793-12957b7db89f')\"\n",
              "            title=\"Convert this dataframe to an interactive table.\"\n",
              "            style=\"display:none;\">\n",
              "\n",
              "  <svg xmlns=\"http://www.w3.org/2000/svg\" height=\"24px\" viewBox=\"0 -960 960 960\">\n",
              "    <path d=\"M120-120v-720h720v720H120Zm60-500h600v-160H180v160Zm220 220h160v-160H400v160Zm0 220h160v-160H400v160ZM180-400h160v-160H180v160Zm440 0h160v-160H620v160ZM180-180h160v-160H180v160Zm440 0h160v-160H620v160Z\"/>\n",
              "  </svg>\n",
              "    </button>\n",
              "\n",
              "  <style>\n",
              "    .colab-df-container {\n",
              "      display:flex;\n",
              "      gap: 12px;\n",
              "    }\n",
              "\n",
              "    .colab-df-convert {\n",
              "      background-color: #E8F0FE;\n",
              "      border: none;\n",
              "      border-radius: 50%;\n",
              "      cursor: pointer;\n",
              "      display: none;\n",
              "      fill: #1967D2;\n",
              "      height: 32px;\n",
              "      padding: 0 0 0 0;\n",
              "      width: 32px;\n",
              "    }\n",
              "\n",
              "    .colab-df-convert:hover {\n",
              "      background-color: #E2EBFA;\n",
              "      box-shadow: 0px 1px 2px rgba(60, 64, 67, 0.3), 0px 1px 3px 1px rgba(60, 64, 67, 0.15);\n",
              "      fill: #174EA6;\n",
              "    }\n",
              "\n",
              "    .colab-df-buttons div {\n",
              "      margin-bottom: 4px;\n",
              "    }\n",
              "\n",
              "    [theme=dark] .colab-df-convert {\n",
              "      background-color: #3B4455;\n",
              "      fill: #D2E3FC;\n",
              "    }\n",
              "\n",
              "    [theme=dark] .colab-df-convert:hover {\n",
              "      background-color: #434B5C;\n",
              "      box-shadow: 0px 1px 3px 1px rgba(0, 0, 0, 0.15);\n",
              "      filter: drop-shadow(0px 1px 2px rgba(0, 0, 0, 0.3));\n",
              "      fill: #FFFFFF;\n",
              "    }\n",
              "  </style>\n",
              "\n",
              "    <script>\n",
              "      const buttonEl =\n",
              "        document.querySelector('#df-2215e057-9bbf-4b6b-8793-12957b7db89f button.colab-df-convert');\n",
              "      buttonEl.style.display =\n",
              "        google.colab.kernel.accessAllowed ? 'block' : 'none';\n",
              "\n",
              "      async function convertToInteractive(key) {\n",
              "        const element = document.querySelector('#df-2215e057-9bbf-4b6b-8793-12957b7db89f');\n",
              "        const dataTable =\n",
              "          await google.colab.kernel.invokeFunction('convertToInteractive',\n",
              "                                                    [key], {});\n",
              "        if (!dataTable) return;\n",
              "\n",
              "        const docLinkHtml = 'Like what you see? Visit the ' +\n",
              "          '<a target=\"_blank\" href=https://colab.research.google.com/notebooks/data_table.ipynb>data table notebook</a>'\n",
              "          + ' to learn more about interactive tables.';\n",
              "        element.innerHTML = '';\n",
              "        dataTable['output_type'] = 'display_data';\n",
              "        await google.colab.output.renderOutput(dataTable, element);\n",
              "        const docLink = document.createElement('div');\n",
              "        docLink.innerHTML = docLinkHtml;\n",
              "        element.appendChild(docLink);\n",
              "      }\n",
              "    </script>\n",
              "  </div>\n",
              "\n",
              "\n",
              "    <div id=\"df-ddea9ce8-ca8c-409a-90bd-b2c8839dad46\">\n",
              "      <button class=\"colab-df-quickchart\" onclick=\"quickchart('df-ddea9ce8-ca8c-409a-90bd-b2c8839dad46')\"\n",
              "                title=\"Suggest charts\"\n",
              "                style=\"display:none;\">\n",
              "\n",
              "<svg xmlns=\"http://www.w3.org/2000/svg\" height=\"24px\"viewBox=\"0 0 24 24\"\n",
              "     width=\"24px\">\n",
              "    <g>\n",
              "        <path d=\"M19 3H5c-1.1 0-2 .9-2 2v14c0 1.1.9 2 2 2h14c1.1 0 2-.9 2-2V5c0-1.1-.9-2-2-2zM9 17H7v-7h2v7zm4 0h-2V7h2v10zm4 0h-2v-4h2v4z\"/>\n",
              "    </g>\n",
              "</svg>\n",
              "      </button>\n",
              "\n",
              "<style>\n",
              "  .colab-df-quickchart {\n",
              "      --bg-color: #E8F0FE;\n",
              "      --fill-color: #1967D2;\n",
              "      --hover-bg-color: #E2EBFA;\n",
              "      --hover-fill-color: #174EA6;\n",
              "      --disabled-fill-color: #AAA;\n",
              "      --disabled-bg-color: #DDD;\n",
              "  }\n",
              "\n",
              "  [theme=dark] .colab-df-quickchart {\n",
              "      --bg-color: #3B4455;\n",
              "      --fill-color: #D2E3FC;\n",
              "      --hover-bg-color: #434B5C;\n",
              "      --hover-fill-color: #FFFFFF;\n",
              "      --disabled-bg-color: #3B4455;\n",
              "      --disabled-fill-color: #666;\n",
              "  }\n",
              "\n",
              "  .colab-df-quickchart {\n",
              "    background-color: var(--bg-color);\n",
              "    border: none;\n",
              "    border-radius: 50%;\n",
              "    cursor: pointer;\n",
              "    display: none;\n",
              "    fill: var(--fill-color);\n",
              "    height: 32px;\n",
              "    padding: 0;\n",
              "    width: 32px;\n",
              "  }\n",
              "\n",
              "  .colab-df-quickchart:hover {\n",
              "    background-color: var(--hover-bg-color);\n",
              "    box-shadow: 0 1px 2px rgba(60, 64, 67, 0.3), 0 1px 3px 1px rgba(60, 64, 67, 0.15);\n",
              "    fill: var(--button-hover-fill-color);\n",
              "  }\n",
              "\n",
              "  .colab-df-quickchart-complete:disabled,\n",
              "  .colab-df-quickchart-complete:disabled:hover {\n",
              "    background-color: var(--disabled-bg-color);\n",
              "    fill: var(--disabled-fill-color);\n",
              "    box-shadow: none;\n",
              "  }\n",
              "\n",
              "  .colab-df-spinner {\n",
              "    border: 2px solid var(--fill-color);\n",
              "    border-color: transparent;\n",
              "    border-bottom-color: var(--fill-color);\n",
              "    animation:\n",
              "      spin 1s steps(1) infinite;\n",
              "  }\n",
              "\n",
              "  @keyframes spin {\n",
              "    0% {\n",
              "      border-color: transparent;\n",
              "      border-bottom-color: var(--fill-color);\n",
              "      border-left-color: var(--fill-color);\n",
              "    }\n",
              "    20% {\n",
              "      border-color: transparent;\n",
              "      border-left-color: var(--fill-color);\n",
              "      border-top-color: var(--fill-color);\n",
              "    }\n",
              "    30% {\n",
              "      border-color: transparent;\n",
              "      border-left-color: var(--fill-color);\n",
              "      border-top-color: var(--fill-color);\n",
              "      border-right-color: var(--fill-color);\n",
              "    }\n",
              "    40% {\n",
              "      border-color: transparent;\n",
              "      border-right-color: var(--fill-color);\n",
              "      border-top-color: var(--fill-color);\n",
              "    }\n",
              "    60% {\n",
              "      border-color: transparent;\n",
              "      border-right-color: var(--fill-color);\n",
              "    }\n",
              "    80% {\n",
              "      border-color: transparent;\n",
              "      border-right-color: var(--fill-color);\n",
              "      border-bottom-color: var(--fill-color);\n",
              "    }\n",
              "    90% {\n",
              "      border-color: transparent;\n",
              "      border-bottom-color: var(--fill-color);\n",
              "    }\n",
              "  }\n",
              "</style>\n",
              "\n",
              "      <script>\n",
              "        async function quickchart(key) {\n",
              "          const quickchartButtonEl =\n",
              "            document.querySelector('#' + key + ' button');\n",
              "          quickchartButtonEl.disabled = true;  // To prevent multiple clicks.\n",
              "          quickchartButtonEl.classList.add('colab-df-spinner');\n",
              "          try {\n",
              "            const charts = await google.colab.kernel.invokeFunction(\n",
              "                'suggestCharts', [key], {});\n",
              "          } catch (error) {\n",
              "            console.error('Error during call to suggestCharts:', error);\n",
              "          }\n",
              "          quickchartButtonEl.classList.remove('colab-df-spinner');\n",
              "          quickchartButtonEl.classList.add('colab-df-quickchart-complete');\n",
              "        }\n",
              "        (() => {\n",
              "          let quickchartButtonEl =\n",
              "            document.querySelector('#df-ddea9ce8-ca8c-409a-90bd-b2c8839dad46 button');\n",
              "          quickchartButtonEl.style.display =\n",
              "            google.colab.kernel.accessAllowed ? 'block' : 'none';\n",
              "        })();\n",
              "      </script>\n",
              "    </div>\n",
              "\n",
              "    </div>\n",
              "  </div>\n"
            ],
            "application/vnd.google.colaboratory.intrinsic+json": {
              "type": "dataframe",
              "summary": "{\n  \"name\": \"carseat\",\n  \"rows\": 8,\n  \"fields\": [\n    {\n      \"column\": \"Sales\",\n      \"properties\": {\n        \"dtype\": \"number\",\n        \"std\": 139.03971201958007,\n        \"min\": 0.0,\n        \"max\": 400.0,\n        \"num_unique_values\": 8,\n        \"samples\": [\n          7.496325000000001,\n          7.49,\n          400.0\n        ],\n        \"semantic_type\": \"\",\n        \"description\": \"\"\n      }\n    },\n    {\n      \"column\": \"CompPrice\",\n      \"properties\": {\n        \"dtype\": \"number\",\n        \"std\": 112.8567112453093,\n        \"min\": 15.334511505351898,\n        \"max\": 400.0,\n        \"num_unique_values\": 8,\n        \"samples\": [\n          124.975,\n          125.0,\n          400.0\n        ],\n        \"semantic_type\": \"\",\n        \"description\": \"\"\n      }\n    },\n    {\n      \"column\": \"Income\",\n      \"properties\": {\n        \"dtype\": \"number\",\n        \"std\": 123.59205419463144,\n        \"min\": 21.0,\n        \"max\": 400.0,\n        \"num_unique_values\": 8,\n        \"samples\": [\n          68.6575,\n          69.0,\n          400.0\n        ],\n        \"semantic_type\": \"\",\n        \"description\": \"\"\n      }\n    },\n    {\n      \"column\": \"Advertising\",\n      \"properties\": {\n        \"dtype\": \"number\",\n        \"std\": 138.73426286702255,\n        \"min\": 0.0,\n        \"max\": 400.0,\n        \"num_unique_values\": 7,\n        \"samples\": [\n          400.0,\n          6.635,\n          12.0\n        ],\n        \"semantic_type\": \"\",\n        \"description\": \"\"\n      }\n    },\n    {\n      \"column\": \"Population\",\n      \"properties\": {\n        \"dtype\": \"number\",\n        \"std\": 164.88737802765365,\n        \"min\": 10.0,\n        \"max\": 509.0,\n        \"num_unique_values\": 8,\n        \"samples\": [\n          264.84,\n          272.0,\n          400.0\n        ],\n        \"semantic_type\": \"\",\n        \"description\": \"\"\n      }\n    },\n    {\n      \"column\": \"Price\",\n      \"properties\": {\n        \"dtype\": \"number\",\n        \"std\": 119.49034337337763,\n        \"min\": 23.676664378459755,\n        \"max\": 400.0,\n        \"num_unique_values\": 8,\n        \"samples\": [\n          115.795,\n          117.0,\n          400.0\n        ],\n        \"semantic_type\": \"\",\n        \"description\": \"\"\n      }\n    },\n    {\n      \"column\": \"Age\",\n      \"properties\": {\n        \"dtype\": \"number\",\n        \"std\": 126.2371171653469,\n        \"min\": 16.200296842789225,\n        \"max\": 400.0,\n        \"num_unique_values\": 8,\n        \"samples\": [\n          53.3225,\n          54.5,\n          400.0\n        ],\n        \"semantic_type\": \"\",\n        \"description\": \"\"\n      }\n    },\n    {\n      \"column\": \"Education\",\n      \"properties\": {\n        \"dtype\": \"number\",\n        \"std\": 137.12991708900972,\n        \"min\": 2.6205281757308976,\n        \"max\": 400.0,\n        \"num_unique_values\": 8,\n        \"samples\": [\n          13.9,\n          14.0,\n          400.0\n        ],\n        \"semantic_type\": \"\",\n        \"description\": \"\"\n      }\n    }\n  ]\n}"
            }
          },
          "metadata": {},
          "execution_count": 107
        }
      ]
    },
    {
      "cell_type": "code",
      "source": [
        "# Asignamos los valores de nuestra X y Y\n",
        "X = carseat.drop(\"Sales\", axis=1)\n",
        "Y = carseat[\"Sales\"]"
      ],
      "metadata": {
        "id": "aGs2XyrOROPD"
      },
      "execution_count": 108,
      "outputs": []
    },
    {
      "cell_type": "code",
      "source": [
        "# observamos a las variables categóricas\n",
        "carseat.info()"
      ],
      "metadata": {
        "colab": {
          "base_uri": "https://localhost:8080/"
        },
        "id": "RkZ7br7sRUyW",
        "outputId": "b0a18fef-1f69-4553-ee27-b992bc8f405f"
      },
      "execution_count": 109,
      "outputs": [
        {
          "output_type": "stream",
          "name": "stdout",
          "text": [
            "<class 'pandas.core.frame.DataFrame'>\n",
            "RangeIndex: 400 entries, 0 to 399\n",
            "Data columns (total 11 columns):\n",
            " #   Column       Non-Null Count  Dtype   \n",
            "---  ------       --------------  -----   \n",
            " 0   Sales        400 non-null    float64 \n",
            " 1   CompPrice    400 non-null    int64   \n",
            " 2   Income       400 non-null    int64   \n",
            " 3   Advertising  400 non-null    int64   \n",
            " 4   Population   400 non-null    int64   \n",
            " 5   Price        400 non-null    int64   \n",
            " 6   ShelveLoc    400 non-null    category\n",
            " 7   Age          400 non-null    int64   \n",
            " 8   Education    400 non-null    int64   \n",
            " 9   Urban        400 non-null    category\n",
            " 10  US           400 non-null    category\n",
            "dtypes: category(3), float64(1), int64(7)\n",
            "memory usage: 26.7 KB\n"
          ]
        }
      ]
    },
    {
      "cell_type": "markdown",
      "source": [
        "Nos percatamos que \"Shelveloc\", \"Urban\" y \"US\" son categóricas. Por lo tanto, debemos codificarlas. Para ello, primero verificaremos si algunos de estos cuentan con valores faltantes."
      ],
      "metadata": {
        "id": "zm6TJEKeRg0C"
      }
    },
    {
      "cell_type": "code",
      "source": [
        "print(\"La variable ShelveLoc tiene:\", carseat['ShelveLoc'].isna().sum(), \"valores faltantes\")\n",
        "print(\"La variable Urban tiene:\", carseat['Urban'].isna().sum(), \"valores faltantes\")\n",
        "print(\"La variable US tiene:\", carseat['US'].isna().sum(), \"valores faltantes\")"
      ],
      "metadata": {
        "colab": {
          "base_uri": "https://localhost:8080/"
        },
        "id": "-FB5FpDjRiO2",
        "outputId": "642624f7-4166-4be6-af17-b1b4b6cb98d5"
      },
      "execution_count": 110,
      "outputs": [
        {
          "output_type": "stream",
          "name": "stdout",
          "text": [
            "La variable ShelveLoc tiene: 0 valores faltantes\n",
            "La variable Urban tiene: 0 valores faltantes\n",
            "La variable US tiene: 0 valores faltantes\n"
          ]
        }
      ]
    },
    {
      "cell_type": "code",
      "source": [
        "# Como no tienen valores faltantes, podemos codificarlas:\n",
        "X = pd.get_dummies(X, columns=[\"ShelveLoc\", \"Urban\", \"US\"])"
      ],
      "metadata": {
        "id": "gxwm7_STR0nw"
      },
      "execution_count": 111,
      "outputs": []
    },
    {
      "cell_type": "code",
      "source": [
        "# Dividimos los datos para obtener nuestro conjunto de entrenamiento del 70%\n",
        "# y nuestro conjunto de prueba del 30%\n",
        "X_train, X_test, Y_train, Y_test = train_test_split(X, Y, test_size=0.3,\n",
        "                                                    random_state=2025)"
      ],
      "metadata": {
        "id": "bgl6SsALR4QC"
      },
      "execution_count": 112,
      "outputs": []
    },
    {
      "cell_type": "markdown",
      "source": [
        "### FITTING THE TREES"
      ],
      "metadata": {
        "id": "omQkDdScSuEu"
      }
    },
    {
      "cell_type": "code",
      "source": [
        "from sklearn.tree import DecisionTreeRegressor, plot_tree\n",
        "import matplotlib.pyplot as plt\n",
        "from sklearn.metrics import mean_squared_error\n",
        "from sklearn.model_selection import cross_val_score"
      ],
      "metadata": {
        "id": "toQnTQFqTJaO"
      },
      "execution_count": 113,
      "outputs": []
    },
    {
      "cell_type": "code",
      "source": [
        "# Ajustamos el árbol\n",
        "arbol = DecisionTreeRegressor(random_state=2025)\n",
        "arbol.fit(X_train, Y_train)"
      ],
      "metadata": {
        "colab": {
          "base_uri": "https://localhost:8080/",
          "height": 80
        },
        "id": "19AV_jAHTLiY",
        "outputId": "597490bc-eadb-4a05-e7b7-8663101b84d4"
      },
      "execution_count": 114,
      "outputs": [
        {
          "output_type": "execute_result",
          "data": {
            "text/plain": [
              "DecisionTreeRegressor(random_state=2025)"
            ],
            "text/html": [
              "<style>#sk-container-id-3 {\n",
              "  /* Definition of color scheme common for light and dark mode */\n",
              "  --sklearn-color-text: #000;\n",
              "  --sklearn-color-text-muted: #666;\n",
              "  --sklearn-color-line: gray;\n",
              "  /* Definition of color scheme for unfitted estimators */\n",
              "  --sklearn-color-unfitted-level-0: #fff5e6;\n",
              "  --sklearn-color-unfitted-level-1: #f6e4d2;\n",
              "  --sklearn-color-unfitted-level-2: #ffe0b3;\n",
              "  --sklearn-color-unfitted-level-3: chocolate;\n",
              "  /* Definition of color scheme for fitted estimators */\n",
              "  --sklearn-color-fitted-level-0: #f0f8ff;\n",
              "  --sklearn-color-fitted-level-1: #d4ebff;\n",
              "  --sklearn-color-fitted-level-2: #b3dbfd;\n",
              "  --sklearn-color-fitted-level-3: cornflowerblue;\n",
              "\n",
              "  /* Specific color for light theme */\n",
              "  --sklearn-color-text-on-default-background: var(--sg-text-color, var(--theme-code-foreground, var(--jp-content-font-color1, black)));\n",
              "  --sklearn-color-background: var(--sg-background-color, var(--theme-background, var(--jp-layout-color0, white)));\n",
              "  --sklearn-color-border-box: var(--sg-text-color, var(--theme-code-foreground, var(--jp-content-font-color1, black)));\n",
              "  --sklearn-color-icon: #696969;\n",
              "\n",
              "  @media (prefers-color-scheme: dark) {\n",
              "    /* Redefinition of color scheme for dark theme */\n",
              "    --sklearn-color-text-on-default-background: var(--sg-text-color, var(--theme-code-foreground, var(--jp-content-font-color1, white)));\n",
              "    --sklearn-color-background: var(--sg-background-color, var(--theme-background, var(--jp-layout-color0, #111)));\n",
              "    --sklearn-color-border-box: var(--sg-text-color, var(--theme-code-foreground, var(--jp-content-font-color1, white)));\n",
              "    --sklearn-color-icon: #878787;\n",
              "  }\n",
              "}\n",
              "\n",
              "#sk-container-id-3 {\n",
              "  color: var(--sklearn-color-text);\n",
              "}\n",
              "\n",
              "#sk-container-id-3 pre {\n",
              "  padding: 0;\n",
              "}\n",
              "\n",
              "#sk-container-id-3 input.sk-hidden--visually {\n",
              "  border: 0;\n",
              "  clip: rect(1px 1px 1px 1px);\n",
              "  clip: rect(1px, 1px, 1px, 1px);\n",
              "  height: 1px;\n",
              "  margin: -1px;\n",
              "  overflow: hidden;\n",
              "  padding: 0;\n",
              "  position: absolute;\n",
              "  width: 1px;\n",
              "}\n",
              "\n",
              "#sk-container-id-3 div.sk-dashed-wrapped {\n",
              "  border: 1px dashed var(--sklearn-color-line);\n",
              "  margin: 0 0.4em 0.5em 0.4em;\n",
              "  box-sizing: border-box;\n",
              "  padding-bottom: 0.4em;\n",
              "  background-color: var(--sklearn-color-background);\n",
              "}\n",
              "\n",
              "#sk-container-id-3 div.sk-container {\n",
              "  /* jupyter's `normalize.less` sets `[hidden] { display: none; }`\n",
              "     but bootstrap.min.css set `[hidden] { display: none !important; }`\n",
              "     so we also need the `!important` here to be able to override the\n",
              "     default hidden behavior on the sphinx rendered scikit-learn.org.\n",
              "     See: https://github.com/scikit-learn/scikit-learn/issues/21755 */\n",
              "  display: inline-block !important;\n",
              "  position: relative;\n",
              "}\n",
              "\n",
              "#sk-container-id-3 div.sk-text-repr-fallback {\n",
              "  display: none;\n",
              "}\n",
              "\n",
              "div.sk-parallel-item,\n",
              "div.sk-serial,\n",
              "div.sk-item {\n",
              "  /* draw centered vertical line to link estimators */\n",
              "  background-image: linear-gradient(var(--sklearn-color-text-on-default-background), var(--sklearn-color-text-on-default-background));\n",
              "  background-size: 2px 100%;\n",
              "  background-repeat: no-repeat;\n",
              "  background-position: center center;\n",
              "}\n",
              "\n",
              "/* Parallel-specific style estimator block */\n",
              "\n",
              "#sk-container-id-3 div.sk-parallel-item::after {\n",
              "  content: \"\";\n",
              "  width: 100%;\n",
              "  border-bottom: 2px solid var(--sklearn-color-text-on-default-background);\n",
              "  flex-grow: 1;\n",
              "}\n",
              "\n",
              "#sk-container-id-3 div.sk-parallel {\n",
              "  display: flex;\n",
              "  align-items: stretch;\n",
              "  justify-content: center;\n",
              "  background-color: var(--sklearn-color-background);\n",
              "  position: relative;\n",
              "}\n",
              "\n",
              "#sk-container-id-3 div.sk-parallel-item {\n",
              "  display: flex;\n",
              "  flex-direction: column;\n",
              "}\n",
              "\n",
              "#sk-container-id-3 div.sk-parallel-item:first-child::after {\n",
              "  align-self: flex-end;\n",
              "  width: 50%;\n",
              "}\n",
              "\n",
              "#sk-container-id-3 div.sk-parallel-item:last-child::after {\n",
              "  align-self: flex-start;\n",
              "  width: 50%;\n",
              "}\n",
              "\n",
              "#sk-container-id-3 div.sk-parallel-item:only-child::after {\n",
              "  width: 0;\n",
              "}\n",
              "\n",
              "/* Serial-specific style estimator block */\n",
              "\n",
              "#sk-container-id-3 div.sk-serial {\n",
              "  display: flex;\n",
              "  flex-direction: column;\n",
              "  align-items: center;\n",
              "  background-color: var(--sklearn-color-background);\n",
              "  padding-right: 1em;\n",
              "  padding-left: 1em;\n",
              "}\n",
              "\n",
              "\n",
              "/* Toggleable style: style used for estimator/Pipeline/ColumnTransformer box that is\n",
              "clickable and can be expanded/collapsed.\n",
              "- Pipeline and ColumnTransformer use this feature and define the default style\n",
              "- Estimators will overwrite some part of the style using the `sk-estimator` class\n",
              "*/\n",
              "\n",
              "/* Pipeline and ColumnTransformer style (default) */\n",
              "\n",
              "#sk-container-id-3 div.sk-toggleable {\n",
              "  /* Default theme specific background. It is overwritten whether we have a\n",
              "  specific estimator or a Pipeline/ColumnTransformer */\n",
              "  background-color: var(--sklearn-color-background);\n",
              "}\n",
              "\n",
              "/* Toggleable label */\n",
              "#sk-container-id-3 label.sk-toggleable__label {\n",
              "  cursor: pointer;\n",
              "  display: flex;\n",
              "  width: 100%;\n",
              "  margin-bottom: 0;\n",
              "  padding: 0.5em;\n",
              "  box-sizing: border-box;\n",
              "  text-align: center;\n",
              "  align-items: start;\n",
              "  justify-content: space-between;\n",
              "  gap: 0.5em;\n",
              "}\n",
              "\n",
              "#sk-container-id-3 label.sk-toggleable__label .caption {\n",
              "  font-size: 0.6rem;\n",
              "  font-weight: lighter;\n",
              "  color: var(--sklearn-color-text-muted);\n",
              "}\n",
              "\n",
              "#sk-container-id-3 label.sk-toggleable__label-arrow:before {\n",
              "  /* Arrow on the left of the label */\n",
              "  content: \"▸\";\n",
              "  float: left;\n",
              "  margin-right: 0.25em;\n",
              "  color: var(--sklearn-color-icon);\n",
              "}\n",
              "\n",
              "#sk-container-id-3 label.sk-toggleable__label-arrow:hover:before {\n",
              "  color: var(--sklearn-color-text);\n",
              "}\n",
              "\n",
              "/* Toggleable content - dropdown */\n",
              "\n",
              "#sk-container-id-3 div.sk-toggleable__content {\n",
              "  max-height: 0;\n",
              "  max-width: 0;\n",
              "  overflow: hidden;\n",
              "  text-align: left;\n",
              "  /* unfitted */\n",
              "  background-color: var(--sklearn-color-unfitted-level-0);\n",
              "}\n",
              "\n",
              "#sk-container-id-3 div.sk-toggleable__content.fitted {\n",
              "  /* fitted */\n",
              "  background-color: var(--sklearn-color-fitted-level-0);\n",
              "}\n",
              "\n",
              "#sk-container-id-3 div.sk-toggleable__content pre {\n",
              "  margin: 0.2em;\n",
              "  border-radius: 0.25em;\n",
              "  color: var(--sklearn-color-text);\n",
              "  /* unfitted */\n",
              "  background-color: var(--sklearn-color-unfitted-level-0);\n",
              "}\n",
              "\n",
              "#sk-container-id-3 div.sk-toggleable__content.fitted pre {\n",
              "  /* unfitted */\n",
              "  background-color: var(--sklearn-color-fitted-level-0);\n",
              "}\n",
              "\n",
              "#sk-container-id-3 input.sk-toggleable__control:checked~div.sk-toggleable__content {\n",
              "  /* Expand drop-down */\n",
              "  max-height: 200px;\n",
              "  max-width: 100%;\n",
              "  overflow: auto;\n",
              "}\n",
              "\n",
              "#sk-container-id-3 input.sk-toggleable__control:checked~label.sk-toggleable__label-arrow:before {\n",
              "  content: \"▾\";\n",
              "}\n",
              "\n",
              "/* Pipeline/ColumnTransformer-specific style */\n",
              "\n",
              "#sk-container-id-3 div.sk-label input.sk-toggleable__control:checked~label.sk-toggleable__label {\n",
              "  color: var(--sklearn-color-text);\n",
              "  background-color: var(--sklearn-color-unfitted-level-2);\n",
              "}\n",
              "\n",
              "#sk-container-id-3 div.sk-label.fitted input.sk-toggleable__control:checked~label.sk-toggleable__label {\n",
              "  background-color: var(--sklearn-color-fitted-level-2);\n",
              "}\n",
              "\n",
              "/* Estimator-specific style */\n",
              "\n",
              "/* Colorize estimator box */\n",
              "#sk-container-id-3 div.sk-estimator input.sk-toggleable__control:checked~label.sk-toggleable__label {\n",
              "  /* unfitted */\n",
              "  background-color: var(--sklearn-color-unfitted-level-2);\n",
              "}\n",
              "\n",
              "#sk-container-id-3 div.sk-estimator.fitted input.sk-toggleable__control:checked~label.sk-toggleable__label {\n",
              "  /* fitted */\n",
              "  background-color: var(--sklearn-color-fitted-level-2);\n",
              "}\n",
              "\n",
              "#sk-container-id-3 div.sk-label label.sk-toggleable__label,\n",
              "#sk-container-id-3 div.sk-label label {\n",
              "  /* The background is the default theme color */\n",
              "  color: var(--sklearn-color-text-on-default-background);\n",
              "}\n",
              "\n",
              "/* On hover, darken the color of the background */\n",
              "#sk-container-id-3 div.sk-label:hover label.sk-toggleable__label {\n",
              "  color: var(--sklearn-color-text);\n",
              "  background-color: var(--sklearn-color-unfitted-level-2);\n",
              "}\n",
              "\n",
              "/* Label box, darken color on hover, fitted */\n",
              "#sk-container-id-3 div.sk-label.fitted:hover label.sk-toggleable__label.fitted {\n",
              "  color: var(--sklearn-color-text);\n",
              "  background-color: var(--sklearn-color-fitted-level-2);\n",
              "}\n",
              "\n",
              "/* Estimator label */\n",
              "\n",
              "#sk-container-id-3 div.sk-label label {\n",
              "  font-family: monospace;\n",
              "  font-weight: bold;\n",
              "  display: inline-block;\n",
              "  line-height: 1.2em;\n",
              "}\n",
              "\n",
              "#sk-container-id-3 div.sk-label-container {\n",
              "  text-align: center;\n",
              "}\n",
              "\n",
              "/* Estimator-specific */\n",
              "#sk-container-id-3 div.sk-estimator {\n",
              "  font-family: monospace;\n",
              "  border: 1px dotted var(--sklearn-color-border-box);\n",
              "  border-radius: 0.25em;\n",
              "  box-sizing: border-box;\n",
              "  margin-bottom: 0.5em;\n",
              "  /* unfitted */\n",
              "  background-color: var(--sklearn-color-unfitted-level-0);\n",
              "}\n",
              "\n",
              "#sk-container-id-3 div.sk-estimator.fitted {\n",
              "  /* fitted */\n",
              "  background-color: var(--sklearn-color-fitted-level-0);\n",
              "}\n",
              "\n",
              "/* on hover */\n",
              "#sk-container-id-3 div.sk-estimator:hover {\n",
              "  /* unfitted */\n",
              "  background-color: var(--sklearn-color-unfitted-level-2);\n",
              "}\n",
              "\n",
              "#sk-container-id-3 div.sk-estimator.fitted:hover {\n",
              "  /* fitted */\n",
              "  background-color: var(--sklearn-color-fitted-level-2);\n",
              "}\n",
              "\n",
              "/* Specification for estimator info (e.g. \"i\" and \"?\") */\n",
              "\n",
              "/* Common style for \"i\" and \"?\" */\n",
              "\n",
              ".sk-estimator-doc-link,\n",
              "a:link.sk-estimator-doc-link,\n",
              "a:visited.sk-estimator-doc-link {\n",
              "  float: right;\n",
              "  font-size: smaller;\n",
              "  line-height: 1em;\n",
              "  font-family: monospace;\n",
              "  background-color: var(--sklearn-color-background);\n",
              "  border-radius: 1em;\n",
              "  height: 1em;\n",
              "  width: 1em;\n",
              "  text-decoration: none !important;\n",
              "  margin-left: 0.5em;\n",
              "  text-align: center;\n",
              "  /* unfitted */\n",
              "  border: var(--sklearn-color-unfitted-level-1) 1pt solid;\n",
              "  color: var(--sklearn-color-unfitted-level-1);\n",
              "}\n",
              "\n",
              ".sk-estimator-doc-link.fitted,\n",
              "a:link.sk-estimator-doc-link.fitted,\n",
              "a:visited.sk-estimator-doc-link.fitted {\n",
              "  /* fitted */\n",
              "  border: var(--sklearn-color-fitted-level-1) 1pt solid;\n",
              "  color: var(--sklearn-color-fitted-level-1);\n",
              "}\n",
              "\n",
              "/* On hover */\n",
              "div.sk-estimator:hover .sk-estimator-doc-link:hover,\n",
              ".sk-estimator-doc-link:hover,\n",
              "div.sk-label-container:hover .sk-estimator-doc-link:hover,\n",
              ".sk-estimator-doc-link:hover {\n",
              "  /* unfitted */\n",
              "  background-color: var(--sklearn-color-unfitted-level-3);\n",
              "  color: var(--sklearn-color-background);\n",
              "  text-decoration: none;\n",
              "}\n",
              "\n",
              "div.sk-estimator.fitted:hover .sk-estimator-doc-link.fitted:hover,\n",
              ".sk-estimator-doc-link.fitted:hover,\n",
              "div.sk-label-container:hover .sk-estimator-doc-link.fitted:hover,\n",
              ".sk-estimator-doc-link.fitted:hover {\n",
              "  /* fitted */\n",
              "  background-color: var(--sklearn-color-fitted-level-3);\n",
              "  color: var(--sklearn-color-background);\n",
              "  text-decoration: none;\n",
              "}\n",
              "\n",
              "/* Span, style for the box shown on hovering the info icon */\n",
              ".sk-estimator-doc-link span {\n",
              "  display: none;\n",
              "  z-index: 9999;\n",
              "  position: relative;\n",
              "  font-weight: normal;\n",
              "  right: .2ex;\n",
              "  padding: .5ex;\n",
              "  margin: .5ex;\n",
              "  width: min-content;\n",
              "  min-width: 20ex;\n",
              "  max-width: 50ex;\n",
              "  color: var(--sklearn-color-text);\n",
              "  box-shadow: 2pt 2pt 4pt #999;\n",
              "  /* unfitted */\n",
              "  background: var(--sklearn-color-unfitted-level-0);\n",
              "  border: .5pt solid var(--sklearn-color-unfitted-level-3);\n",
              "}\n",
              "\n",
              ".sk-estimator-doc-link.fitted span {\n",
              "  /* fitted */\n",
              "  background: var(--sklearn-color-fitted-level-0);\n",
              "  border: var(--sklearn-color-fitted-level-3);\n",
              "}\n",
              "\n",
              ".sk-estimator-doc-link:hover span {\n",
              "  display: block;\n",
              "}\n",
              "\n",
              "/* \"?\"-specific style due to the `<a>` HTML tag */\n",
              "\n",
              "#sk-container-id-3 a.estimator_doc_link {\n",
              "  float: right;\n",
              "  font-size: 1rem;\n",
              "  line-height: 1em;\n",
              "  font-family: monospace;\n",
              "  background-color: var(--sklearn-color-background);\n",
              "  border-radius: 1rem;\n",
              "  height: 1rem;\n",
              "  width: 1rem;\n",
              "  text-decoration: none;\n",
              "  /* unfitted */\n",
              "  color: var(--sklearn-color-unfitted-level-1);\n",
              "  border: var(--sklearn-color-unfitted-level-1) 1pt solid;\n",
              "}\n",
              "\n",
              "#sk-container-id-3 a.estimator_doc_link.fitted {\n",
              "  /* fitted */\n",
              "  border: var(--sklearn-color-fitted-level-1) 1pt solid;\n",
              "  color: var(--sklearn-color-fitted-level-1);\n",
              "}\n",
              "\n",
              "/* On hover */\n",
              "#sk-container-id-3 a.estimator_doc_link:hover {\n",
              "  /* unfitted */\n",
              "  background-color: var(--sklearn-color-unfitted-level-3);\n",
              "  color: var(--sklearn-color-background);\n",
              "  text-decoration: none;\n",
              "}\n",
              "\n",
              "#sk-container-id-3 a.estimator_doc_link.fitted:hover {\n",
              "  /* fitted */\n",
              "  background-color: var(--sklearn-color-fitted-level-3);\n",
              "}\n",
              "</style><div id=\"sk-container-id-3\" class=\"sk-top-container\"><div class=\"sk-text-repr-fallback\"><pre>DecisionTreeRegressor(random_state=2025)</pre><b>In a Jupyter environment, please rerun this cell to show the HTML representation or trust the notebook. <br />On GitHub, the HTML representation is unable to render, please try loading this page with nbviewer.org.</b></div><div class=\"sk-container\" hidden><div class=\"sk-item\"><div class=\"sk-estimator fitted sk-toggleable\"><input class=\"sk-toggleable__control sk-hidden--visually\" id=\"sk-estimator-id-3\" type=\"checkbox\" checked><label for=\"sk-estimator-id-3\" class=\"sk-toggleable__label fitted sk-toggleable__label-arrow\"><div><div>DecisionTreeRegressor</div></div><div><a class=\"sk-estimator-doc-link fitted\" rel=\"noreferrer\" target=\"_blank\" href=\"https://scikit-learn.org/1.6/modules/generated/sklearn.tree.DecisionTreeRegressor.html\">?<span>Documentation for DecisionTreeRegressor</span></a><span class=\"sk-estimator-doc-link fitted\">i<span>Fitted</span></span></div></label><div class=\"sk-toggleable__content fitted\"><pre>DecisionTreeRegressor(random_state=2025)</pre></div> </div></div></div></div>"
            ]
          },
          "metadata": {},
          "execution_count": 114
        }
      ]
    },
    {
      "cell_type": "code",
      "source": [
        "# Para visualizar el árbol antes de seguir:\n",
        "plt.figure(figsize=(20, 10))\n",
        "plot_tree(arbol, filled=True, feature_names=X_train.columns)\n",
        "plt.show()"
      ],
      "metadata": {
        "colab": {
          "base_uri": "https://localhost:8080/",
          "height": 365
        },
        "id": "ThK3JhRbTPV3",
        "outputId": "7cc9035a-0031-41c3-e50d-7141a640cbf4"
      },
      "execution_count": 115,
      "outputs": [
        {
          "output_type": "display_data",
          "data": {
            "text/plain": [
              "<Figure size 2000x1000 with 1 Axes>"
            ],
            "image/png": "[encoded data removed]"
          },
          "metadata": {}
        }
      ]
    },
    {
      "cell_type": "code",
      "source": [
        "# Ahora, calculamos el MSE en nuestro conjunto de prueba\n",
        "Y_pred = arbol.predict(X_test)\n",
        "mse = mean_squared_error(Y_test, Y_pred)\n",
        "print(\"El MSE en el conjunto de prueba es:\", mse)"
      ],
      "metadata": {
        "colab": {
          "base_uri": "https://localhost:8080/"
        },
        "id": "7xEcKAJMTVIj",
        "outputId": "7d542011-f888-44cc-beef-85f2bc112c12"
      },
      "execution_count": 117,
      "outputs": [
        {
          "output_type": "stream",
          "name": "stdout",
          "text": [
            "El MSE en el conjunto de prueba es: 4.54553\n"
          ]
        }
      ]
    },
    {
      "cell_type": "markdown",
      "source": [
        "Teniendo en cuenta que el valor mínimo de Sales es 0 y el máximo de 16.27, que el MSE sea de 4.5455, podemos decir que existe un error moderado. Por lo que, procedemos a hacer la validación cruzada y a podar nuestro árbol"
      ],
      "metadata": {
        "id": "qCMxBFYSTdF3"
      }
    },
    {
      "cell_type": "code",
      "source": [
        "# Estaremos probando diferentes niveles de complejidad (del 1 al 20)\n",
        "profundidad = range(1, 21)\n",
        "cv_scores = []"
      ],
      "metadata": {
        "id": "mATRVVFHTfGx"
      },
      "execution_count": 118,
      "outputs": []
    },
    {
      "cell_type": "code",
      "source": [
        "for p in profundidad:\n",
        "    arbol_valc = DecisionTreeRegressor(max_depth=p, random_state=2025)\n",
        "    scores = cross_val_score(arbol_valc, X_train, Y_train, cv=10, scoring='neg_mean_squared_error')\n",
        "    cv_scores.append(-scores.mean())"
      ],
      "metadata": {
        "id": "Nfyd9M0CToYz"
      },
      "execution_count": 119,
      "outputs": []
    },
    {
      "cell_type": "code",
      "source": [
        "# Buscamos la profundidad óptima (con menos error)\n",
        "optimo = profundidad[np.argmin(cv_scores)]\n",
        "print(\"La profundidad óptima es:\", optimo)"
      ],
      "metadata": {
        "colab": {
          "base_uri": "https://localhost:8080/"
        },
        "id": "H50JJM9NTp7v",
        "outputId": "ab58831d-df63-400e-9d07-4a1b91c713f5"
      },
      "execution_count": 120,
      "outputs": [
        {
          "output_type": "stream",
          "name": "stdout",
          "text": [
            "La profundidad óptima es: 4\n"
          ]
        }
      ]
    },
    {
      "cell_type": "code",
      "source": [
        "# Creamos un árbol con esta profundidad óptima\n",
        "arbol_podado = DecisionTreeRegressor(max_depth=optimo, random_state=2025)\n",
        "arbol_podado.fit(X_train, Y_train)"
      ],
      "metadata": {
        "colab": {
          "base_uri": "https://localhost:8080/",
          "height": 80
        },
        "id": "KYMaDBz5Tus2",
        "outputId": "81c0c58a-c1dc-4b42-8502-f9317c9c021f"
      },
      "execution_count": 121,
      "outputs": [
        {
          "output_type": "execute_result",
          "data": {
            "text/plain": [
              "DecisionTreeRegressor(max_depth=4, random_state=2025)"
            ],
            "text/html": [
              "<style>#sk-container-id-4 {\n",
              "  /* Definition of color scheme common for light and dark mode */\n",
              "  --sklearn-color-text: #000;\n",
              "  --sklearn-color-text-muted: #666;\n",
              "  --sklearn-color-line: gray;\n",
              "  /* Definition of color scheme for unfitted estimators */\n",
              "  --sklearn-color-unfitted-level-0: #fff5e6;\n",
              "  --sklearn-color-unfitted-level-1: #f6e4d2;\n",
              "  --sklearn-color-unfitted-level-2: #ffe0b3;\n",
              "  --sklearn-color-unfitted-level-3: chocolate;\n",
              "  /* Definition of color scheme for fitted estimators */\n",
              "  --sklearn-color-fitted-level-0: #f0f8ff;\n",
              "  --sklearn-color-fitted-level-1: #d4ebff;\n",
              "  --sklearn-color-fitted-level-2: #b3dbfd;\n",
              "  --sklearn-color-fitted-level-3: cornflowerblue;\n",
              "\n",
              "  /* Specific color for light theme */\n",
              "  --sklearn-color-text-on-default-background: var(--sg-text-color, var(--theme-code-foreground, var(--jp-content-font-color1, black)));\n",
              "  --sklearn-color-background: var(--sg-background-color, var(--theme-background, var(--jp-layout-color0, white)));\n",
              "  --sklearn-color-border-box: var(--sg-text-color, var(--theme-code-foreground, var(--jp-content-font-color1, black)));\n",
              "  --sklearn-color-icon: #696969;\n",
              "\n",
              "  @media (prefers-color-scheme: dark) {\n",
              "    /* Redefinition of color scheme for dark theme */\n",
              "    --sklearn-color-text-on-default-background: var(--sg-text-color, var(--theme-code-foreground, var(--jp-content-font-color1, white)));\n",
              "    --sklearn-color-background: var(--sg-background-color, var(--theme-background, var(--jp-layout-color0, #111)));\n",
              "    --sklearn-color-border-box: var(--sg-text-color, var(--theme-code-foreground, var(--jp-content-font-color1, white)));\n",
              "    --sklearn-color-icon: #878787;\n",
              "  }\n",
              "}\n",
              "\n",
              "#sk-container-id-4 {\n",
              "  color: var(--sklearn-color-text);\n",
              "}\n",
              "\n",
              "#sk-container-id-4 pre {\n",
              "  padding: 0;\n",
              "}\n",
              "\n",
              "#sk-container-id-4 input.sk-hidden--visually {\n",
              "  border: 0;\n",
              "  clip: rect(1px 1px 1px 1px);\n",
              "  clip: rect(1px, 1px, 1px, 1px);\n",
              "  height: 1px;\n",
              "  margin: -1px;\n",
              "  overflow: hidden;\n",
              "  padding: 0;\n",
              "  position: absolute;\n",
              "  width: 1px;\n",
              "}\n",
              "\n",
              "#sk-container-id-4 div.sk-dashed-wrapped {\n",
              "  border: 1px dashed var(--sklearn-color-line);\n",
              "  margin: 0 0.4em 0.5em 0.4em;\n",
              "  box-sizing: border-box;\n",
              "  padding-bottom: 0.4em;\n",
              "  background-color: var(--sklearn-color-background);\n",
              "}\n",
              "\n",
              "#sk-container-id-4 div.sk-container {\n",
              "  /* jupyter's `normalize.less` sets `[hidden] { display: none; }`\n",
              "     but bootstrap.min.css set `[hidden] { display: none !important; }`\n",
              "     so we also need the `!important` here to be able to override the\n",
              "     default hidden behavior on the sphinx rendered scikit-learn.org.\n",
              "     See: https://github.com/scikit-learn/scikit-learn/issues/21755 */\n",
              "  display: inline-block !important;\n",
              "  position: relative;\n",
              "}\n",
              "\n",
              "#sk-container-id-4 div.sk-text-repr-fallback {\n",
              "  display: none;\n",
              "}\n",
              "\n",
              "div.sk-parallel-item,\n",
              "div.sk-serial,\n",
              "div.sk-item {\n",
              "  /* draw centered vertical line to link estimators */\n",
              "  background-image: linear-gradient(var(--sklearn-color-text-on-default-background), var(--sklearn-color-text-on-default-background));\n",
              "  background-size: 2px 100%;\n",
              "  background-repeat: no-repeat;\n",
              "  background-position: center center;\n",
              "}\n",
              "\n",
              "/* Parallel-specific style estimator block */\n",
              "\n",
              "#sk-container-id-4 div.sk-parallel-item::after {\n",
              "  content: \"\";\n",
              "  width: 100%;\n",
              "  border-bottom: 2px solid var(--sklearn-color-text-on-default-background);\n",
              "  flex-grow: 1;\n",
              "}\n",
              "\n",
              "#sk-container-id-4 div.sk-parallel {\n",
              "  display: flex;\n",
              "  align-items: stretch;\n",
              "  justify-content: center;\n",
              "  background-color: var(--sklearn-color-background);\n",
              "  position: relative;\n",
              "}\n",
              "\n",
              "#sk-container-id-4 div.sk-parallel-item {\n",
              "  display: flex;\n",
              "  flex-direction: column;\n",
              "}\n",
              "\n",
              "#sk-container-id-4 div.sk-parallel-item:first-child::after {\n",
              "  align-self: flex-end;\n",
              "  width: 50%;\n",
              "}\n",
              "\n",
              "#sk-container-id-4 div.sk-parallel-item:last-child::after {\n",
              "  align-self: flex-start;\n",
              "  width: 50%;\n",
              "}\n",
              "\n",
              "#sk-container-id-4 div.sk-parallel-item:only-child::after {\n",
              "  width: 0;\n",
              "}\n",
              "\n",
              "/* Serial-specific style estimator block */\n",
              "\n",
              "#sk-container-id-4 div.sk-serial {\n",
              "  display: flex;\n",
              "  flex-direction: column;\n",
              "  align-items: center;\n",
              "  background-color: var(--sklearn-color-background);\n",
              "  padding-right: 1em;\n",
              "  padding-left: 1em;\n",
              "}\n",
              "\n",
              "\n",
              "/* Toggleable style: style used for estimator/Pipeline/ColumnTransformer box that is\n",
              "clickable and can be expanded/collapsed.\n",
              "- Pipeline and ColumnTransformer use this feature and define the default style\n",
              "- Estimators will overwrite some part of the style using the `sk-estimator` class\n",
              "*/\n",
              "\n",
              "/* Pipeline and ColumnTransformer style (default) */\n",
              "\n",
              "#sk-container-id-4 div.sk-toggleable {\n",
              "  /* Default theme specific background. It is overwritten whether we have a\n",
              "  specific estimator or a Pipeline/ColumnTransformer */\n",
              "  background-color: var(--sklearn-color-background);\n",
              "}\n",
              "\n",
              "/* Toggleable label */\n",
              "#sk-container-id-4 label.sk-toggleable__label {\n",
              "  cursor: pointer;\n",
              "  display: flex;\n",
              "  width: 100%;\n",
              "  margin-bottom: 0;\n",
              "  padding: 0.5em;\n",
              "  box-sizing: border-box;\n",
              "  text-align: center;\n",
              "  align-items: start;\n",
              "  justify-content: space-between;\n",
              "  gap: 0.5em;\n",
              "}\n",
              "\n",
              "#sk-container-id-4 label.sk-toggleable__label .caption {\n",
              "  font-size: 0.6rem;\n",
              "  font-weight: lighter;\n",
              "  color: var(--sklearn-color-text-muted);\n",
              "}\n",
              "\n",
              "#sk-container-id-4 label.sk-toggleable__label-arrow:before {\n",
              "  /* Arrow on the left of the label */\n",
              "  content: \"▸\";\n",
              "  float: left;\n",
              "  margin-right: 0.25em;\n",
              "  color: var(--sklearn-color-icon);\n",
              "}\n",
              "\n",
              "#sk-container-id-4 label.sk-toggleable__label-arrow:hover:before {\n",
              "  color: var(--sklearn-color-text);\n",
              "}\n",
              "\n",
              "/* Toggleable content - dropdown */\n",
              "\n",
              "#sk-container-id-4 div.sk-toggleable__content {\n",
              "  max-height: 0;\n",
              "  max-width: 0;\n",
              "  overflow: hidden;\n",
              "  text-align: left;\n",
              "  /* unfitted */\n",
              "  background-color: var(--sklearn-color-unfitted-level-0);\n",
              "}\n",
              "\n",
              "#sk-container-id-4 div.sk-toggleable__content.fitted {\n",
              "  /* fitted */\n",
              "  background-color: var(--sklearn-color-fitted-level-0);\n",
              "}\n",
              "\n",
              "#sk-container-id-4 div.sk-toggleable__content pre {\n",
              "  margin: 0.2em;\n",
              "  border-radius: 0.25em;\n",
              "  color: var(--sklearn-color-text);\n",
              "  /* unfitted */\n",
              "  background-color: var(--sklearn-color-unfitted-level-0);\n",
              "}\n",
              "\n",
              "#sk-container-id-4 div.sk-toggleable__content.fitted pre {\n",
              "  /* unfitted */\n",
              "  background-color: var(--sklearn-color-fitted-level-0);\n",
              "}\n",
              "\n",
              "#sk-container-id-4 input.sk-toggleable__control:checked~div.sk-toggleable__content {\n",
              "  /* Expand drop-down */\n",
              "  max-height: 200px;\n",
              "  max-width: 100%;\n",
              "  overflow: auto;\n",
              "}\n",
              "\n",
              "#sk-container-id-4 input.sk-toggleable__control:checked~label.sk-toggleable__label-arrow:before {\n",
              "  content: \"▾\";\n",
              "}\n",
              "\n",
              "/* Pipeline/ColumnTransformer-specific style */\n",
              "\n",
              "#sk-container-id-4 div.sk-label input.sk-toggleable__control:checked~label.sk-toggleable__label {\n",
              "  color: var(--sklearn-color-text);\n",
              "  background-color: var(--sklearn-color-unfitted-level-2);\n",
              "}\n",
              "\n",
              "#sk-container-id-4 div.sk-label.fitted input.sk-toggleable__control:checked~label.sk-toggleable__label {\n",
              "  background-color: var(--sklearn-color-fitted-level-2);\n",
              "}\n",
              "\n",
              "/* Estimator-specific style */\n",
              "\n",
              "/* Colorize estimator box */\n",
              "#sk-container-id-4 div.sk-estimator input.sk-toggleable__control:checked~label.sk-toggleable__label {\n",
              "  /* unfitted */\n",
              "  background-color: var(--sklearn-color-unfitted-level-2);\n",
              "}\n",
              "\n",
              "#sk-container-id-4 div.sk-estimator.fitted input.sk-toggleable__control:checked~label.sk-toggleable__label {\n",
              "  /* fitted */\n",
              "  background-color: var(--sklearn-color-fitted-level-2);\n",
              "}\n",
              "\n",
              "#sk-container-id-4 div.sk-label label.sk-toggleable__label,\n",
              "#sk-container-id-4 div.sk-label label {\n",
              "  /* The background is the default theme color */\n",
              "  color: var(--sklearn-color-text-on-default-background);\n",
              "}\n",
              "\n",
              "/* On hover, darken the color of the background */\n",
              "#sk-container-id-4 div.sk-label:hover label.sk-toggleable__label {\n",
              "  color: var(--sklearn-color-text);\n",
              "  background-color: var(--sklearn-color-unfitted-level-2);\n",
              "}\n",
              "\n",
              "/* Label box, darken color on hover, fitted */\n",
              "#sk-container-id-4 div.sk-label.fitted:hover label.sk-toggleable__label.fitted {\n",
              "  color: var(--sklearn-color-text);\n",
              "  background-color: var(--sklearn-color-fitted-level-2);\n",
              "}\n",
              "\n",
              "/* Estimator label */\n",
              "\n",
              "#sk-container-id-4 div.sk-label label {\n",
              "  font-family: monospace;\n",
              "  font-weight: bold;\n",
              "  display: inline-block;\n",
              "  line-height: 1.2em;\n",
              "}\n",
              "\n",
              "#sk-container-id-4 div.sk-label-container {\n",
              "  text-align: center;\n",
              "}\n",
              "\n",
              "/* Estimator-specific */\n",
              "#sk-container-id-4 div.sk-estimator {\n",
              "  font-family: monospace;\n",
              "  border: 1px dotted var(--sklearn-color-border-box);\n",
              "  border-radius: 0.25em;\n",
              "  box-sizing: border-box;\n",
              "  margin-bottom: 0.5em;\n",
              "  /* unfitted */\n",
              "  background-color: var(--sklearn-color-unfitted-level-0);\n",
              "}\n",
              "\n",
              "#sk-container-id-4 div.sk-estimator.fitted {\n",
              "  /* fitted */\n",
              "  background-color: var(--sklearn-color-fitted-level-0);\n",
              "}\n",
              "\n",
              "/* on hover */\n",
              "#sk-container-id-4 div.sk-estimator:hover {\n",
              "  /* unfitted */\n",
              "  background-color: var(--sklearn-color-unfitted-level-2);\n",
              "}\n",
              "\n",
              "#sk-container-id-4 div.sk-estimator.fitted:hover {\n",
              "  /* fitted */\n",
              "  background-color: var(--sklearn-color-fitted-level-2);\n",
              "}\n",
              "\n",
              "/* Specification for estimator info (e.g. \"i\" and \"?\") */\n",
              "\n",
              "/* Common style for \"i\" and \"?\" */\n",
              "\n",
              ".sk-estimator-doc-link,\n",
              "a:link.sk-estimator-doc-link,\n",
              "a:visited.sk-estimator-doc-link {\n",
              "  float: right;\n",
              "  font-size: smaller;\n",
              "  line-height: 1em;\n",
              "  font-family: monospace;\n",
              "  background-color: var(--sklearn-color-background);\n",
              "  border-radius: 1em;\n",
              "  height: 1em;\n",
              "  width: 1em;\n",
              "  text-decoration: none !important;\n",
              "  margin-left: 0.5em;\n",
              "  text-align: center;\n",
              "  /* unfitted */\n",
              "  border: var(--sklearn-color-unfitted-level-1) 1pt solid;\n",
              "  color: var(--sklearn-color-unfitted-level-1);\n",
              "}\n",
              "\n",
              ".sk-estimator-doc-link.fitted,\n",
              "a:link.sk-estimator-doc-link.fitted,\n",
              "a:visited.sk-estimator-doc-link.fitted {\n",
              "  /* fitted */\n",
              "  border: var(--sklearn-color-fitted-level-1) 1pt solid;\n",
              "  color: var(--sklearn-color-fitted-level-1);\n",
              "}\n",
              "\n",
              "/* On hover */\n",
              "div.sk-estimator:hover .sk-estimator-doc-link:hover,\n",
              ".sk-estimator-doc-link:hover,\n",
              "div.sk-label-container:hover .sk-estimator-doc-link:hover,\n",
              ".sk-estimator-doc-link:hover {\n",
              "  /* unfitted */\n",
              "  background-color: var(--sklearn-color-unfitted-level-3);\n",
              "  color: var(--sklearn-color-background);\n",
              "  text-decoration: none;\n",
              "}\n",
              "\n",
              "div.sk-estimator.fitted:hover .sk-estimator-doc-link.fitted:hover,\n",
              ".sk-estimator-doc-link.fitted:hover,\n",
              "div.sk-label-container:hover .sk-estimator-doc-link.fitted:hover,\n",
              ".sk-estimator-doc-link.fitted:hover {\n",
              "  /* fitted */\n",
              "  background-color: var(--sklearn-color-fitted-level-3);\n",
              "  color: var(--sklearn-color-background);\n",
              "  text-decoration: none;\n",
              "}\n",
              "\n",
              "/* Span, style for the box shown on hovering the info icon */\n",
              ".sk-estimator-doc-link span {\n",
              "  display: none;\n",
              "  z-index: 9999;\n",
              "  position: relative;\n",
              "  font-weight: normal;\n",
              "  right: .2ex;\n",
              "  padding: .5ex;\n",
              "  margin: .5ex;\n",
              "  width: min-content;\n",
              "  min-width: 20ex;\n",
              "  max-width: 50ex;\n",
              "  color: var(--sklearn-color-text);\n",
              "  box-shadow: 2pt 2pt 4pt #999;\n",
              "  /* unfitted */\n",
              "  background: var(--sklearn-color-unfitted-level-0);\n",
              "  border: .5pt solid var(--sklearn-color-unfitted-level-3);\n",
              "}\n",
              "\n",
              ".sk-estimator-doc-link.fitted span {\n",
              "  /* fitted */\n",
              "  background: var(--sklearn-color-fitted-level-0);\n",
              "  border: var(--sklearn-color-fitted-level-3);\n",
              "}\n",
              "\n",
              ".sk-estimator-doc-link:hover span {\n",
              "  display: block;\n",
              "}\n",
              "\n",
              "/* \"?\"-specific style due to the `<a>` HTML tag */\n",
              "\n",
              "#sk-container-id-4 a.estimator_doc_link {\n",
              "  float: right;\n",
              "  font-size: 1rem;\n",
              "  line-height: 1em;\n",
              "  font-family: monospace;\n",
              "  background-color: var(--sklearn-color-background);\n",
              "  border-radius: 1rem;\n",
              "  height: 1rem;\n",
              "  width: 1rem;\n",
              "  text-decoration: none;\n",
              "  /* unfitted */\n",
              "  color: var(--sklearn-color-unfitted-level-1);\n",
              "  border: var(--sklearn-color-unfitted-level-1) 1pt solid;\n",
              "}\n",
              "\n",
              "#sk-container-id-4 a.estimator_doc_link.fitted {\n",
              "  /* fitted */\n",
              "  border: var(--sklearn-color-fitted-level-1) 1pt solid;\n",
              "  color: var(--sklearn-color-fitted-level-1);\n",
              "}\n",
              "\n",
              "/* On hover */\n",
              "#sk-container-id-4 a.estimator_doc_link:hover {\n",
              "  /* unfitted */\n",
              "  background-color: var(--sklearn-color-unfitted-level-3);\n",
              "  color: var(--sklearn-color-background);\n",
              "  text-decoration: none;\n",
              "}\n",
              "\n",
              "#sk-container-id-4 a.estimator_doc_link.fitted:hover {\n",
              "  /* fitted */\n",
              "  background-color: var(--sklearn-color-fitted-level-3);\n",
              "}\n",
              "</style><div id=\"sk-container-id-4\" class=\"sk-top-container\"><div class=\"sk-text-repr-fallback\"><pre>DecisionTreeRegressor(max_depth=4, random_state=2025)</pre><b>In a Jupyter environment, please rerun this cell to show the HTML representation or trust the notebook. <br />On GitHub, the HTML representation is unable to render, please try loading this page with nbviewer.org.</b></div><div class=\"sk-container\" hidden><div class=\"sk-item\"><div class=\"sk-estimator fitted sk-toggleable\"><input class=\"sk-toggleable__control sk-hidden--visually\" id=\"sk-estimator-id-4\" type=\"checkbox\" checked><label for=\"sk-estimator-id-4\" class=\"sk-toggleable__label fitted sk-toggleable__label-arrow\"><div><div>DecisionTreeRegressor</div></div><div><a class=\"sk-estimator-doc-link fitted\" rel=\"noreferrer\" target=\"_blank\" href=\"https://scikit-learn.org/1.6/modules/generated/sklearn.tree.DecisionTreeRegressor.html\">?<span>Documentation for DecisionTreeRegressor</span></a><span class=\"sk-estimator-doc-link fitted\">i<span>Fitted</span></span></div></label><div class=\"sk-toggleable__content fitted\"><pre>DecisionTreeRegressor(max_depth=4, random_state=2025)</pre></div> </div></div></div></div>"
            ]
          },
          "metadata": {},
          "execution_count": 121
        }
      ]
    },
    {
      "cell_type": "code",
      "source": [
        "# Ahora, volvemos a sacar el MSE en nuestro árbol podado\n",
        "y_podado = arbol_podado.predict(X_test)\n",
        "mse_podado = mean_squared_error(Y_test, y_podado)\n",
        "print(\"El MSE en el conjunto de prueba con el árbol podado es:\", mse_podado)"
      ],
      "metadata": {
        "colab": {
          "base_uri": "https://localhost:8080/"
        },
        "id": "el6ixxFSTxGu",
        "outputId": "e89bbc6c-b234-4bfd-ced0-996e5afa9443"
      },
      "execution_count": 122,
      "outputs": [
        {
          "output_type": "stream",
          "name": "stdout",
          "text": [
            "El MSE en el conjunto de prueba con el árbol podado es: 5.568179711225089\n"
          ]
        }
      ]
    },
    {
      "cell_type": "code",
      "source": [
        "# Observamos que:\n",
        "print(\"El MSE en el conjunto de prueba con el árbol sin podar es:\", mse)\n",
        "print(\"El MSE en el conjunto de prueba con el árbol podado es:\", mse_podado)"
      ],
      "metadata": {
        "colab": {
          "base_uri": "https://localhost:8080/"
        },
        "id": "5KVNI2alT3v5",
        "outputId": "4a5fdaf1-6236-455b-e1b7-295161c6aadf"
      },
      "execution_count": 123,
      "outputs": [
        {
          "output_type": "stream",
          "name": "stdout",
          "text": [
            "El MSE en el conjunto de prueba con el árbol sin podar es: 4.54553\n",
            "El MSE en el conjunto de prueba con el árbol podado es: 5.568179711225089\n"
          ]
        }
      ]
    },
    {
      "cell_type": "markdown",
      "source": [
        "Por lo tanto, el MSE no mejora con la poda del árbol. En lugar de disminuir, el MSE aumenta, lo que quiere decir que el árbol inicial captura mejor la variabilidad que el árbol podado, o sea, es menos preciso que el árbol inicial."
      ],
      "metadata": {
        "id": "4LI0f8-VT74b"
      }
    }
  ]
}
